{
 "cells": [
  {
   "cell_type": "markdown",
   "id": "6231e66d",
   "metadata": {},
   "source": [
    "### 1. A Scalable Language"
   ]
  },
  {
   "cell_type": "markdown",
   "id": "c302a1bf",
   "metadata": {},
   "source": [
    "#### Scala is object-oriented"
   ]
  },
  {
   "cell_type": "code",
   "execution_count": 1,
   "id": "1e1649cf",
   "metadata": {},
   "outputs": [
    {
     "data": {
      "text/plain": [
       "Intitializing Scala interpreter ..."
      ]
     },
     "metadata": {},
     "output_type": "display_data"
    },
    {
     "data": {
      "text/plain": [
       "Spark Web UI available at http://host.docker.internal:4040\n",
       "SparkContext available as 'sc' (version = 3.3.0, master = local[*], app id = local-1662874395007)\n",
       "SparkSession available as 'spark'\n"
      ]
     },
     "metadata": {},
     "output_type": "display_data"
    },
    {
     "name": "stdout",
     "output_type": "stream",
     "text": [
      "3\n"
     ]
    },
    {
     "data": {
      "text/plain": [
       "difference: Int = 3\r\n"
      ]
     },
     "execution_count": 1,
     "metadata": {},
     "output_type": "execute_result"
    },
    {
     "name": "stdout",
     "output_type": "stream",
     "text": [
      "22/09/11 13:33:33 WARN ProcfsMetricsGetter: Exception when trying to compute pagesize, as a result reporting of ProcessTree metrics is stopped\r\n"
     ]
    }
   ],
   "source": [
    "// Calculate the difference between 8 and 5\n",
    "val difference = 8-5\n",
    " \n",
    "// Print the difference\n",
    "println(difference)"
   ]
  },
  {
   "cell_type": "markdown",
   "id": "dc88b3e8",
   "metadata": {},
   "source": [
    "#### Define immutable variables"
   ]
  },
  {
   "cell_type": "code",
   "execution_count": 2,
   "id": "63ff8fc7",
   "metadata": {},
   "outputs": [
    {
     "data": {
      "text/plain": [
       "twoClubs: Int = 2\r\n",
       "threeClubs: Int = 3\r\n",
       "fourClubs: Int = 4\r\n"
      ]
     },
     "execution_count": 2,
     "metadata": {},
     "output_type": "execute_result"
    }
   ],
   "source": [
    "// Define immutable variables for clubs 2♣ through 4♣\n",
    "val twoClubs: Int = 2\n",
    "val threeClubs: Int = 3\n",
    "val fourClubs: Int = 4"
   ]
  },
  {
   "cell_type": "markdown",
   "id": "352e790a",
   "metadata": {},
   "source": [
    "#### Don't try to change me"
   ]
  },
  {
   "cell_type": "code",
   "execution_count": 3,
   "id": "f788d3f8",
   "metadata": {},
   "outputs": [
    {
     "data": {
      "text/plain": [
       "playerA: String = Alex\r\n",
       "playerB: String = Chen\r\n",
       "playerC: String = Umberto\r\n"
      ]
     },
     "execution_count": 3,
     "metadata": {},
     "output_type": "execute_result"
    }
   ],
   "source": [
    "// Define immutable variables for player names\n",
    "val playerA: String = \"Alex\"\n",
    "val playerB: String = \"Chen\"\n",
    "val playerC: String = \"Umberto\"\n",
    " \n",
    "// Change playerC from Marta to Umberto\n",
    "// playerC = \"Umberto\"\n"
   ]
  },
  {
   "cell_type": "markdown",
   "id": "4581593a",
   "metadata": {},
   "source": [
    "#### Define mutable variables (var)"
   ]
  },
  {
   "cell_type": "code",
   "execution_count": 4,
   "id": "326f74cd",
   "metadata": {},
   "outputs": [
    {
     "data": {
      "text/plain": [
       "aceClubs: Int = 1\r\n",
       "aceDiamonds: Int = 1\r\n",
       "aceHearts: Int = 1\r\n",
       "aceSpades: Int = 1\r\n"
      ]
     },
     "execution_count": 4,
     "metadata": {},
     "output_type": "execute_result"
    }
   ],
   "source": [
    "// Define mutable variables for all aces\n",
    "var aceClubs = 1\n",
    "var aceDiamonds = 1\n",
    "var aceHearts = 1\n",
    "var aceSpades =1"
   ]
  },
  {
   "cell_type": "markdown",
   "id": "8adcadcb",
   "metadata": {},
   "source": [
    "#### You can change me"
   ]
  },
  {
   "cell_type": "code",
   "execution_count": 7,
   "id": "0db1ecf7",
   "metadata": {},
   "outputs": [
    {
     "name": "stdout",
     "output_type": "stream",
     "text": [
      "22\n"
     ]
    },
    {
     "data": {
      "text/plain": [
       "playerA: String = Alex\r\n",
       "aceDiamonds: Int = 11\r\n",
       "jackClubs: Int = 11\r\n"
      ]
     },
     "execution_count": 7,
     "metadata": {},
     "output_type": "execute_result"
    }
   ],
   "source": [
    "// Create a mutable variable for Alex as player A\n",
    "var playerA= \"Alex\"\n",
    " \n",
    "// Change the point value of A♦ from 1 to 11\n",
    "var aceDiamonds = 11\n",
    "var jackClubs = 11\n",
    " \n",
    "// Calculate hand value for J♣ and A♦\n",
    "println(jackClubs + aceDiamonds)"
   ]
  },
  {
   "cell_type": "markdown",
   "id": "f743b811",
   "metadata": {},
   "source": [
    "### 2. Workflows, Functions, Collections"
   ]
  },
  {
   "cell_type": "code",
   "execution_count": null,
   "id": "5643ba11",
   "metadata": {},
   "outputs": [],
   "source": []
  }
 ],
 "metadata": {
  "kernelspec": {
   "display_name": "spylon-kernel",
   "language": "scala",
   "name": "spylon-kernel"
  },
  "language_info": {
   "codemirror_mode": "text/x-scala",
   "file_extension": ".scala",
   "help_links": [
    {
     "text": "MetaKernel Magics",
     "url": "https://metakernel.readthedocs.io/en/latest/source/README.html"
    }
   ],
   "mimetype": "text/x-scala",
   "name": "scala",
   "pygments_lexer": "scala",
   "version": "0.4.1"
  }
 },
 "nbformat": 4,
 "nbformat_minor": 5
}
