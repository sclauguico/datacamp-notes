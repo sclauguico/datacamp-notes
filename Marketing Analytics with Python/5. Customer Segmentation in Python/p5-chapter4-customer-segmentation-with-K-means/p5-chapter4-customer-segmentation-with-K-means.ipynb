{
 "cells": [
  {
   "cell_type": "markdown",
   "id": "3d72f105",
   "metadata": {},
   "source": [
    "### Practical implementation of k-means clustering\n",
    "\n",
    "1. Practical implementation of k-means clustering\n",
    "Great job! Now we are entering the final and the most important part of this course - we will implement a segmentation project with k-means clustering using the data we have prepared in the previous lessons.\n",
    "\n",
    "2. Key steps\n",
    "The key steps of the segmentation projects are the following ones: First, we pre-process the data, which we covered in the previous lessons. Then, we have to choose the number of clusters as k-means requires that number to be passed to it. We will then run the k-means clustering and receive a list of cluster labels for each customer. Finally, we will analyze the average recency, frequency and monetary values for each cluster and compare them.\n",
    "\n",
    "3. Data pre-processing\n",
    "As we have already covered data pre-processing in the previous lesson, we will just reiterate the learnings: We have the raw and the pre-processed datasets loaded as datamart_rfm and datamart_normalized respectively. The code that we used to create the normalized version first unskewed the data with a log transformation. It then normalized it with the StandardScaler() which ultimately centers the data by subtracting its mean values. Finally, it scales it by dividing it by standard deviation.\n",
    "\n",
    "4. Methods to define the number of clusters\n",
    "When running k-means you will have to pass the number of clusters. This decision is not an easy one, if there are no data supporting the choice. Fortunately, there are various methods to get a good estimate on what it should be: We will use visual methods such as elbow criterion since they are easy to interpret and give a good estimation. There are also mathematical methods like silhouette coefficient which is useful when trying to find a model with better defined clusters. Not without its caveats, but still commonly used. We won't be using this method for our segmentation project. Finally, it's important to understand that these methods should be interpreted as advisory as we are segmenting customers. Each solution's interpretation should make sense for the business first, and be actionable.\n",
    "\n",
    "5. Running k-means\n",
    "Running k-means is a pretty straightforward process: First we import KMeans from the scikit-learn library. Then we initialize the model by passing the number of clusters and any integer as the random state. Then, we compute the k-means clustering on our pre-processed data with the fit() function. Finally we extract the computer cluster labels. That's it!\n",
    "\n",
    "6. Analyzing average RFM values of each cluster\n",
    "The next step is to analyze how these clusters differ from each other, and we will do that with the raw data. First, we will create a new dataframe that has raw RFM columns, plus a cluster column which we add with the assign() command. Then we take the new DataFrame and calculate average RFM values for each cluster, and count the number of observations in each cluster.\n",
    "\n",
    "7. Analyzing average RFM values of each cluster\n",
    "The result is a simple table where we see how these two segments differ from each other. It's clear that segment 0 has customers who have not been very recent, are much less frequent with their purchases and their monetary value is much lower than that of segment 1. This is already a clear distinction and quite a useful segmentation. We will see in the next lesson that more insights can be uncovered by increasing the number of segments.\n",
    "\n",
    "8. Let's practice running k-means clustering!\n",
    "Now it's your turn to practice running k-means clustering algorithm!"
   ]
  },
  {
   "cell_type": "markdown",
   "id": "f192e904",
   "metadata": {},
   "source": [
    "### Run k-means\n",
    "You will now build a 3 clusters with k-means clustering. We have loaded the pre-processed RFM dataset as datamart_normalized. We have also loaded the pandas library as pd.\n",
    "\n",
    "You can explore the dataset in the console to get familiar with it."
   ]
  },
  {
   "cell_type": "code",
   "execution_count": null,
   "id": "6361da1c",
   "metadata": {},
   "outputs": [],
   "source": [
    "Import KMeans from the scikit-learn library.\n",
    "Initialize KMeans with 3 clusters and random state 1.\n",
    "Fit k-means clustering on the normalized data set.\n",
    "Extract cluster labels and store them as cluster_labels."
   ]
  },
  {
   "cell_type": "code",
   "execution_count": null,
   "id": "5ce3da68",
   "metadata": {},
   "outputs": [],
   "source": [
    "# Import KMeans \n",
    "from sklearn.cluster import KMeans\n",
    "\n",
    "# Initialize KMeans\n",
    "kmeans = KMeans(n_clusters=3, random_state=1) \n",
    "\n",
    "# Fit k-means clustering on the normalized data set\n",
    "kmeans.fit(datamart_normalized)\n",
    "\n",
    "# Extract cluster labels\n",
    "cluster_labels = kmeans.labels_"
   ]
  },
  {
   "cell_type": "markdown",
   "id": "ff7c9d28",
   "metadata": {},
   "source": [
    "### Assign labels to raw data\n",
    "You will now analyze the average RFM values of the three clusters you've created in the previous exercise. We have loaded the raw RFM dataset as datamart_rfm, and the cluster labels as cluster_labels. pandas is available as pd.\n",
    "\n",
    "Feel free to explore the date in the console."
   ]
  },
  {
   "cell_type": "code",
   "execution_count": null,
   "id": "205ccce6",
   "metadata": {},
   "outputs": [],
   "source": [
    "Create a new DataFrame by adding a cluster label column to datamart_rfm.\n",
    "Create a groupby element on a Cluster column.\n",
    "Calculate average RFM values and segment sizes per each Cluster value."
   ]
  },
  {
   "cell_type": "code",
   "execution_count": null,
   "id": "f4eb3dc3",
   "metadata": {},
   "outputs": [],
   "source": [
    "In [1]:\n",
    "datamart_rfm\n",
    "Out[1]:\n",
    "\n",
    "            Recency  Frequency  MonetaryValue\n",
    "CustomerID                                   \n",
    "12747             3         25         948.70\n",
    "12748             1        888        7046.16\n",
    "12749             4         37         813.45\n",
    "12820             4         17         268.02\n",
    "12822            71          9         146.15\n",
    "...             ...        ...            ...\n",
    "18280           278          2          38.70\n",
    "18281           181          2          31.80\n",
    "18282             8          2          30.70\n",
    "18283             4        152         432.93\n",
    "18287            43         15         395.76\n",
    "\n",
    "[3643 rows x 3 columns]"
   ]
  },
  {
   "cell_type": "code",
   "execution_count": null,
   "id": "9c179813",
   "metadata": {},
   "outputs": [],
   "source": [
    "# Create a DataFrame by adding a new cluster label column\n",
    "datamart_rfm_k3 = datamart_rfm.assign(Cluster=cluster_labels)\n",
    "\n",
    "# Group the data by cluster\n",
    "grouped = datamart_rfm_k3.groupby(['Cluster'])\n",
    "\n",
    "# Calculate average RFM values and segment sizes per cluster value\n",
    "grouped.agg({\n",
    "    'Recency': 'mean',\n",
    "    'Frequency': 'mean',\n",
    "    'MonetaryValue': ['mean', 'count']\n",
    "  }).round(1)"
   ]
  },
  {
   "cell_type": "markdown",
   "id": "33f1d023",
   "metadata": {},
   "source": [
    "### Choosing the number of clusters\n",
    "1. Choosing number of clusters\n",
    "Great work! Now we will learn how to choose the number of clusters we want to use with k-means.\n",
    "\n",
    "2. Methods\n",
    "We have learned in the previous lesson that there are several ways to do this - visually, mathematically, or experimenting with different clusters and interpreting the results. We will focus on the elbow criterion and the experimentation. First, we will learn how to identify the best advised number of segments by elbow criterion method. Then, we will experiment with several numbers of clusters around it.\n",
    "\n",
    "3. Elbow criterion method\n",
    "The elbow criterion method plots the sum of squared errors for each number of segments. The sum of squared errors is basically the sum of squared distances from each data point to their cluster center. We then look at the chart to identify where the decrease in SSE slows down and becomes somewhat marginal. That point looks like an elbow of a bended arm and it shows where there are diminishing returns by increasing the number of clusters. This point represents the optimal number of clusters from a sum-of-squared errors perspective. However, we should choose several options around the elbow to test what makes most sense.\n",
    "\n",
    "4. Elbow criterion method\n",
    "Let's take a look at the code to build the elbow criterion plot. We are using a dummy data to emphasize the concept. First, we import the key libraries for plotting and kmeans. Then, we create an empty dictionary called SSE, abbreviation for sum of squared errors, and we run a for loop over different number of clusters, between 1 and 10. For each iteration we build a kmeans segmentation on the pre-processed data. The fitted kmeans model already has a sum of squared errors calculated and stored as inertia. We will assign it to the dictionary we created. Finally we plot the number of clusters stored as keys in the dictionary on the x axis, and the sum-of-squared error values on the y axis.\n",
    "\n",
    "5. Elbow criterion method\n",
    "And here's what we get: the elbow plot! The way to look at it is try to find the point with the largest angle which is the so-called elbow.\n",
    "\n",
    "6. Elbow criterion method\n",
    "The point at 4 clusters is where we identify the largest angle, and this is the elbow we've been looking for.\n",
    "\n",
    "7. Using elbow criterion method\n",
    "It's important to understand that building segmentation only at that number of clusters is not a hard rule. Generally, it should be taken as a recommended number and we should test several segmentation approaches. Here we can see the elbow plot for our RFM data. It's pretty clear the elbow is at the 2 cluster solution. But we will definitely test several approaches.\n",
    "\n",
    "8. Experimental approach - analyze segments\n",
    "Finally, there is the experimental approach to choose the number of customers which is best used after identifying an elbow or another computationally advised number of segments. For each of these numbers we will calculate the average RFM or other attribute values, and compare the solutions to identify the approach that is the most useful and provides most insight.\n",
    "\n",
    "9. Experimental approach - analyze segments\n",
    "For example, the elbow criterion plot for RFM data advised 2 clusters, therefore, we should at least build segmentation based on 2 and 3 clusters, and compare the outputs. As we can see, the 3 segment solution still has more story to it. While it does identify the least attractive segments and cluster number 1, it does break down the higher value segments into two: segment zero and segment two. It's up to the analyst and the business partners to review the segments and make the call on which solutions make more sense.\n",
    "\n",
    "10. Let's practice finding the optimal number of clusters!\n",
    "Now, you will run some calculations to build the elbow criterion plot!"
   ]
  },
  {
   "cell_type": "markdown",
   "id": "334d33eb",
   "metadata": {},
   "source": [
    "### Calculate sum of squared errors\n",
    "In this exercise, you will calculate the sum of squared errors for different number of clusters ranging from 1 to 15. In this example we are using a custom created dataset to get a cleaner elbow read.\n",
    "\n",
    "We have loaded the normalized version of data as data_normalized. The KMeans module from scikit-learn is already imported. Also, we have initialized an empty dictionary to store sum of squared errors as sse = {}.\n",
    "\n",
    "Feel free to explore the data in the console."
   ]
  },
  {
   "cell_type": "code",
   "execution_count": null,
   "id": "c3c0bfac",
   "metadata": {},
   "outputs": [],
   "source": [
    "Fit KMeans and calculate SSE for each k with a range between 1 and 15.\n",
    "Initialize KMeans with k clusters and random state 1.\n",
    "Fit KMeans on the normalized dataset.\n",
    "Assign sum of squared distances to k element of sse dictionary."
   ]
  },
  {
   "cell_type": "code",
   "execution_count": null,
   "id": "d796c8a6",
   "metadata": {},
   "outputs": [],
   "source": [
    "In [1]:\n",
    "data_normalized\n",
    "Out[1]:\n",
    "\n",
    "array([[2.52708422e+02, 2.26887387e-01, 2.79783295e+02],\n",
    "       [6.34659445e+02, 3.75435617e+00, 2.09792134e-01],\n",
    "       [3.20225017e+02, 9.78334290e+01, 2.03873785e-01],\n",
    "       [1.42556813e+03, 1.63217832e+00, 1.20068758e+02],\n",
    "       [4.59116298e+02, 5.38109175e+00, 1.86682390e-01],\n",
    "       [4.30180615e+02, 2.91116438e-02, 2.10073960e-01],\n",
    "       [1.30596730e+03, 6.48155812e-02, 4.14397911e-01],\n",
    "       [1.16128889e+03, 9.83489927e-01, 2.26701702e-01],\n",
    "       [9.33661508e+02, 6.37759266e+00, 2.13455874e-01],\n",
    "       [7.23395541e+02, 1.40707883e+01, 3.86773691e+01],\n",
    "       [5.24703848e+02, 1.06993738e+01, 2.27547181e-01],\n",
    "       [7.13750313e+02, 9.16938263e-02, 6.04348728e-01],\n",
    "       [6.71311311e+02, 1.17424101e+01, 1.97673610e-01],\n",
    "       [8.70003005e+02, 8.56763087e-02, 2.89548931e-01],"
   ]
  },
  {
   "cell_type": "code",
   "execution_count": null,
   "id": "8a4fa2bb",
   "metadata": {},
   "outputs": [],
   "source": [
    "# Fit KMeans and calculate SSE for each k\n",
    "for k in range(1, 15):\n",
    "  \n",
    "    # Initialize KMeans with k clusters\n",
    "    kmeans = KMeans(n_clusters=k, random_state=1)\n",
    "    \n",
    "    # Fit KMeans on the normalized dataset\n",
    "    kmeans.fit(data_normalized)\n",
    "    \n",
    "    # Assign sum of squared distances to k element of dictionary\n",
    "    sse[k] = kmeans.inertia_ "
   ]
  },
  {
   "cell_type": "markdown",
   "id": "8de5ada8",
   "metadata": {},
   "source": [
    "### Plot sum of squared errors\n",
    "Now you will plot the sum of squared errors for each value of k and identify if there is an elbow. This will guide you towards the recommended number of clusters to use.\n",
    "\n",
    "The sum of squared errors is loaded as a dictionary called sse from the previous exercise. matplotlib.pyplot was loaded as plt, and seaborn as sns.\n",
    "\n",
    "You can explore the dictionary in the console."
   ]
  },
  {
   "cell_type": "code",
   "execution_count": null,
   "id": "5a5da14f",
   "metadata": {},
   "outputs": [],
   "source": [
    "Add the plot title \"The Elbow Method\".\n",
    "Add the X-axis label \"k\".\n",
    "Add the Y-axis label \"SSE\".\n",
    "Plot SSE values for each k stored as keys in the dictionary."
   ]
  },
  {
   "cell_type": "code",
   "execution_count": null,
   "id": "5cf01b6d",
   "metadata": {},
   "outputs": [],
   "source": [
    "# Add the plot title \"The Elbow Method\"\n",
    "plt.title('The Elbow Method')\n",
    "\n",
    "# Add X-axis label \"k\"\n",
    "plt.xlabel('k')\n",
    "\n",
    "# Add Y-axis label \"SSE\"\n",
    "plt.ylabel('SSE')\n",
    "\n",
    "# Plot SSE values for each key in the dictionary\n",
    "sns.pointplot(x=list(sse.keys()), y=list(sse.values()))\n",
    "plt.show()"
   ]
  },
  {
   "cell_type": "code",
   "execution_count": 1,
   "id": "3497786a",
   "metadata": {},
   "outputs": [
    {
     "data": {
      "image/png": "[encoded data removed]",
      "text/plain": [
       "<IPython.core.display.Image object>"
      ]
     },
     "execution_count": 1,
     "metadata": {},
     "output_type": "execute_result"
    }
   ],
   "source": [
    "from IPython.display import Image\n",
    "Image(\"elbow.png\")"
   ]
  },
  {
   "cell_type": "markdown",
   "id": "eec7d1bb",
   "metadata": {},
   "source": [
    "Congratulations! You can see the elbow is clearly around 3-4 clusters!"
   ]
  },
  {
   "cell_type": "markdown",
   "id": "c153a107",
   "metadata": {},
   "source": [
    "### Profile and interpret segments\n",
    "\n",
    "1. Profile and interpret segments\n",
    "Great work on finding the right number of clusters to begin our segmentation! Now we will learn how to profile and interpret our segments.\n",
    "\n",
    "2. Approaches to build customer personas\n",
    "The are multiple ways to build customer personas. You have already seen the approach where we assign the cluster label to the original dataset and then calculate average values of each cluster. Another approach is to use snake plots - a chart that visualizes RFM values between the segments. You also need to know how to calculate the relative importance of each cluster's attributes compared to the population average.\n",
    "\n",
    "3. Summary statistics of each cluster\n",
    "Ok! We will now calculate average RFM values for each of the 2 segments we have built previously. First, we create a new dataframe that combines RFM values from our original dataset and the Cluster labels from the 2-cluster k-means solution. Then we aggregate RFM values and calculate their averages. Finally, we compare this against a 3-cluster solution.\n",
    "\n",
    "4. Summary statistics of each cluster\n",
    "As you can see there are some inherent differences between the 2-segment and 3-segment solutions. While the former is simpler, the 3-segment solution gives more insights.\n",
    "\n",
    "5. Snake plots to understand and compare segments\n",
    "Great! Now we will learn about snake plots. Snake plots are a market research visualization technique plotting segments and their RFM values on a line chart. We need to normalize the data so the values would be comparable. Finally, we plot each cluster's average values on a line plot.\n",
    "\n",
    "6. Prepare data for a snake plot\n",
    "Let's code the snake plot now! First, we create a DataFrame from our normalized NumPy array. We will pass it to the pandas DataFrame function, and use the index and columns from the original datamart_rfm. Then we will assign a cluster label from the datamart_rfm_k3 dataset. For easier plotting, we will melt the dataset into a long format. We basically melt the three RFM columns and create one called attribute. The attribute column will store the name of the metric, and then store its value into another column.\n",
    "\n",
    "7. Visualize a snake plot\n",
    "Finally, we can visualize the snake plot. We add the title and then use the lineplot function from seaborn package. We pass the attribute to the X axis, and the value to the Y axis. Finally, we pass the cluster label to the hue argument, which will draw separate lines for each cluster. And here's the snake plot - it makes it very easy and intuitive to interpret, compare the segments and identify interesting insights.\n",
    "\n",
    "8. Relative importance of segment attributes\n",
    "Now there is another technique, slightly different from the snake plot, although the underlying data preparation is similar. In general, we want our segments to differ from the overall population, and have distinctive properties of their own. We can use this technique to identify relative importance of each attribute. First, we calculate the average RFM values for each cluster. Then, we do the same for the total population. Finally, we divide the two, and subtract 1 from the result.\n",
    "\n",
    "9. Analyze and plot relative importance\n",
    "The result is a relative importance score for each RFM value of the segments. The further that ratio is from zero, the more important that attribute is for defining a specific cluster compared to the population average. We can view it by just looking at rounded values, or we can plot a heatmap which we used in our first lesson on cohort analysis.\n",
    "\n",
    "10. Relative importance heatmap\n",
    "Here we go - the heatmap plot is easier to interpret, and it contains the actual numeric values as well. If you compare it to the previous printed output, it's clear that the heatmap has a visual advantage over the print() statement.\n",
    "\n",
    "11. Your time to experiment with different customer profiling techniques!\n",
    "Great job everybody! Now it's your time to experiment with these techniques!\n",
    "\n"
   ]
  },
  {
   "cell_type": "markdown",
   "id": "4cc43e9b",
   "metadata": {},
   "source": [
    "### Prepare data for the snake plot\n",
    "Now you will prepare data for the snake plot. You will use the 3-cluster RFM segmentation solution you have built previously. You will transform the normalized RFM data into a long format by \"melting\" the metric columns into two columns - one for the name of the metric, and another for the actual numeric value.\n",
    "\n",
    "We have loaded the normalized RFM data with the cluster labels already assigned. It is loaded as apandas DataFrame named datamart_normalized. Also, pandas is imported as pd.\n",
    "\n",
    "Explore the datamart_normalized in the console before you begin the exercise to get a good sense of its structure!"
   ]
  },
  {
   "cell_type": "markdown",
   "id": "f5e2b479",
   "metadata": {},
   "source": [
    "Transform the dataset into long format by applying melt function on the normalized dataset with a reset index.\n",
    "Assign CustomerID and Cluster as ID variables.\n",
    "Assign RFM values as value variables.\n",
    "Name the variable as Metric and the value as Value."
   ]
  },
  {
   "cell_type": "code",
   "execution_count": null,
   "id": "9394ff4a",
   "metadata": {},
   "outputs": [],
   "source": [
    "In [1]:\n",
    "datamart_normalized\n",
    "Out[1]:\n",
    "\n",
    "            Recency  Frequency  MonetaryValue  Cluster\n",
    "CustomerID                                            \n",
    "12747        -2.002      0.865          1.465        2\n",
    "12748        -2.815      3.815          2.995        2\n",
    "12749        -1.789      1.189          1.348        2\n",
    "12820        -1.789      0.546          0.501        2\n",
    "12822         0.337      0.021          0.038        1\n",
    "...             ...        ...            ...      ...\n",
    "18280         1.347     -1.222         -0.976        0\n",
    "18281         1.029     -1.222         -1.126        0\n",
    "18282        -1.277     -1.222         -1.152        0\n",
    "18283        -1.789      2.357          0.866        2\n",
    "18287        -0.033      0.443          0.798        1\n",
    "\n",
    "[3643 rows x 4 columns]"
   ]
  },
  {
   "cell_type": "code",
   "execution_count": null,
   "id": "a5cde671",
   "metadata": {},
   "outputs": [],
   "source": [
    "# Melt the normalized dataset and reset the index\n",
    "datamart_melt = pd.melt(\n",
    "  \t\t\t\t\tdatamart_normalized.reset_index(), \n",
    "                        \n",
    "# Assign CustomerID and Cluster as ID variables\n",
    "                    id_vars=['CustomerID', 'Cluster'],\n",
    "\n",
    "# Assign RFM values as value variables\n",
    "                    value_vars=['Recency', 'Frequency', 'MonetaryValue'], \n",
    "                        \n",
    "# Name the variable and value\n",
    "                    var_name='Metric', value_name='Value'\n",
    "\t\t\t\t\t)"
   ]
  },
  {
   "cell_type": "code",
   "execution_count": null,
   "id": "dacb6d0f",
   "metadata": {},
   "outputs": [],
   "source": [
    "In [3]:\n",
    "datamart_melt\n",
    "Out[3]:\n",
    "\n",
    "       CustomerID  Cluster         Metric  Value\n",
    "0           12747        2        Recency -2.002\n",
    "1           12748        2        Recency -2.815\n",
    "2           12749        2        Recency -1.789\n",
    "3           12820        2        Recency -1.789\n",
    "4           12822        1        Recency  0.337\n",
    "...           ...      ...            ...    ...\n",
    "10924       18280        0  MonetaryValue -0.976\n",
    "10925       18281        0  MonetaryValue -1.126\n",
    "10926       18282        0  MonetaryValue -1.152\n",
    "10927       18283        2  MonetaryValue  0.866\n",
    "10928       18287        1  MonetaryValue  0.798\n",
    "\n",
    "[10929 rows x 4 columns]"
   ]
  },
  {
   "cell_type": "markdown",
   "id": "29ae8b30",
   "metadata": {},
   "source": [
    "### Visualize snake plot\n",
    "Good work! You will now use the melted dataset to build the snake plot. The melted data is loaded as datamart_melt.\n",
    "\n",
    "The seaborn library is loaded as sns and matplotlib.pyplot is available as plt.\n",
    "\n",
    "You can use the console to explore the melted dataset."
   ]
  },
  {
   "cell_type": "code",
   "execution_count": null,
   "id": "64093d2b",
   "metadata": {},
   "outputs": [],
   "source": [
    "Add the plot title.\n",
    "Add the X-axis label \"Metric\".\n",
    "Add the Y-axis label \"Value\".\n",
    "Plot a line for each value of the Cluster in datamart_melt."
   ]
  },
  {
   "cell_type": "code",
   "execution_count": null,
   "id": "d5ae9170",
   "metadata": {},
   "outputs": [],
   "source": [
    "# Add the plot title\n",
    "plt.title('Snake plot of normalized variables')\n",
    "\n",
    "# Add the x axis label\n",
    "plt.xlabel('Metric')\n",
    "\n",
    "# Add the y axis label\n",
    "plt.ylabel('Value')\n",
    "\n",
    "# Plot a line for each value of the cluster variable\n",
    "sns.lineplot(data=datamart_melt, x='Metric', y='Value', hue='Cluster')\n",
    "plt.show()"
   ]
  },
  {
   "cell_type": "code",
   "execution_count": 3,
   "id": "73a1e026",
   "metadata": {},
   "outputs": [
    {
     "data": {
      "image/png": "[encoded data removed]",
      "text/plain": [
       "<IPython.core.display.Image object>"
      ]
     },
     "execution_count": 3,
     "metadata": {},
     "output_type": "execute_result"
    }
   ],
   "source": [
    "Image(\"snakeplot.png\")"
   ]
  },
  {
   "cell_type": "markdown",
   "id": "4e8895bd",
   "metadata": {},
   "source": [
    "### Calculate relative importance of each attribute\n",
    "Now you will calculate the relative importance of the RFM values within each cluster.\n",
    "\n",
    "We have loaded datamart_rfm with raw RFM values, and datamart_rfm_k3 which has raw RFM values and the cluster labels stored as Cluster. The pandas library is also loaded as pd.\n",
    "\n",
    "Feel free to explore the datasets in the console."
   ]
  },
  {
   "cell_type": "markdown",
   "id": "5e483362",
   "metadata": {},
   "source": [
    "Calculate average RFM values for each cluster - use datamart_rfm_k3 dataset.\n",
    "Calculate average RFM values for the total customer population - use datamart_rfm dataset.\n",
    "Calculate relative importance of cluster's attribute value compared to population.\n",
    "Print relative importance scores rounded to 2 decimals."
   ]
  },
  {
   "cell_type": "code",
   "execution_count": null,
   "id": "91631bcf",
   "metadata": {},
   "outputs": [],
   "source": [
    "# Calculate average RFM values for each cluster\n",
    "cluster_avg = datamart_rfm_k3.groupby(['Cluster']).mean() \n",
    "\n",
    "# Calculate average RFM values for the total customer population\n",
    "population_avg = datamart_rfm.mean()\n",
    "\n",
    "# Calculate relative importance of cluster's attribute value compared to population\n",
    "relative_imp = cluster_avg / population_avg - 1\n",
    "\n",
    "# Print relative importance scores rounded to 2 decimals\n",
    "print(relative_imp.round(2))"
   ]
  },
  {
   "cell_type": "code",
   "execution_count": null,
   "id": "dc877492",
   "metadata": {},
   "outputs": [],
   "source": [
    "<script.py> output:\n",
    "             Recency  Frequency  MonetaryValue\n",
    "    Cluster                                   \n",
    "    0           0.84      -0.84          -0.86\n",
    "    1          -0.15      -0.35          -0.42\n",
    "    2          -0.82       1.67           1.82"
   ]
  },
  {
   "cell_type": "markdown",
   "id": "7ccaf6e2",
   "metadata": {},
   "source": [
    "Perfect! You can clearly see the differences in relative attribute importance of each of the segment!"
   ]
  },
  {
   "cell_type": "markdown",
   "id": "0978ef7f",
   "metadata": {},
   "source": [
    "### Plot relative importance heatmap\n",
    "Great job! Now you will build a heatmap visualizing the relative scores for each cluster.\n",
    "\n",
    "We have loaded the relative importance scores as relative_imp. The seaborn library is loaded as sns and the pyplot module from matplotlib is available as plt."
   ]
  },
  {
   "cell_type": "code",
   "execution_count": null,
   "id": "c0835fff",
   "metadata": {},
   "outputs": [],
   "source": [
    "Initialize a plot with a figure size of 8 by 2 inches.\n",
    "Add the plot title.\n",
    "Plot the heatmap on relative_imp data."
   ]
  },
  {
   "cell_type": "code",
   "execution_count": null,
   "id": "fd1d083f",
   "metadata": {},
   "outputs": [],
   "source": [
    "# Initialize a plot with a figure size of 8 by 2 inches \n",
    "plt.figure(figsize=(8, 2))\n",
    "\n",
    "# Add the plot title\n",
    "plt.title('Relative importance of attributes')\n",
    "\n",
    "# Plot the heatmap\n",
    "sns.heatmap(data=relative_imp, annot=True, fmt='.2f', cmap='RdYlGn')\n",
    "plt.show()"
   ]
  },
  {
   "cell_type": "code",
   "execution_count": 4,
   "id": "46468b9b",
   "metadata": {},
   "outputs": [
    {
     "data": {
      "image/png": "[encoded data removed]",
      "text/plain": [
       "<IPython.core.display.Image object>"
      ]
     },
     "execution_count": 4,
     "metadata": {},
     "output_type": "execute_result"
    }
   ],
   "source": [
    "Image(\"heatmap.png\")"
   ]
  },
  {
   "cell_type": "markdown",
   "id": "db8e0803",
   "metadata": {},
   "source": [
    "### End-to-end segmentation solution\n",
    "\n",
    "1. Implement end-to-end segmentation solution\n",
    "Fantastic work! You are now fully equipped to build end-to-end customer segmentation projects and that's what we're going to do now.\n",
    "\n",
    "2. Key steps of the segmentation project\n",
    "Now, let's recap the key steps of the segmentation project. First, you gather the data. You will use an updated dataset that has recency, frequency and monetary values from the previous lessons, and an additional variable to make this more interesting. Then, you will pre-process the data to ensure k-means clustering works as expected. Next, you will use the techniques from the previous lessons to identify the number of clusters. Finally, you will run the k-means clustering, and then use various analysis and visualization techniques to interpret the results.\n",
    "\n",
    "3. Updated RFM data\n",
    "Now, we have created an updated version of our RFM dataset. The additional variable called tenure has been added. This value is calculated as the time since the first transaction, as opposed to recency which is the time since the customer's last transaction. Ultimately, it defines how long the customer has been with the company since their first transaction. And here's the data - as you can see it has the RFM values as previously, and the new tenure feature as the last column.\n",
    "\n",
    "4. Goals for this project\n",
    "Now that you've seen the data, you can start working on the final segmentation project. The main goals for running this end-to-end segmentation solution are: First, remember the key pre-processing rules and steps. Second, apply data exploration techniques and identify the number of segments to be used. Then, you will practice running several k-means iterations, and interpret the results by applying quantitative and visual techniques.\n",
    "\n",
    "5. Let's dig in!\n",
    "Great job, now let's start working on this segmentation project, good luck!"
   ]
  },
  {
   "cell_type": "markdown",
   "id": "25f77de0",
   "metadata": {},
   "source": [
    "### Pre-process data\n",
    "First step in the segmentation process is to pre-process the data. You will apply log transformation, and then normalize the data to prepare it for clustering.\n",
    "\n",
    "We have loaded the dataset with RFMT values as datamart_rfmt. Also, the pandas library is loaded as pd, and numpy as np.\n",
    "\n",
    "Please feel free to explore the expanded RFMT dataset in the console."
   ]
  },
  {
   "cell_type": "markdown",
   "id": "230b17f0",
   "metadata": {},
   "source": [
    "Import StandardScaler, initialize it, ad store as scaler.\n",
    "Apply log transformation to the raw RFMT data.\n",
    "Initialize the scaler and fit it on the log-transformed data.\n",
    "Transform and store the scaled data as datamart_rfmt_normalized."
   ]
  },
  {
   "cell_type": "code",
   "execution_count": null,
   "id": "02025bd2",
   "metadata": {},
   "outputs": [],
   "source": [
    "In [1]:\n",
    "datamart_rfmt\n",
    "Out[1]:\n",
    "\n",
    "            Recency  Frequency  MonetaryValue  Tenure\n",
    "CustomerID                                           \n",
    "12747             3         25         948.70     362\n",
    "12748             1        888        7046.16     365\n",
    "12749             4         37         813.45     214\n",
    "12820             4         17         268.02     327\n",
    "12822            71          9         146.15      88\n",
    "...             ...        ...            ...     ...\n",
    "18280           278          2          38.70     278\n",
    "18281           181          2          31.80     181\n",
    "18282             8          2          30.70       8\n",
    "18283             4        152         432.93     338\n",
    "18287            43         15         395.76     202\n",
    "\n",
    "[3643 rows x 4 columns]"
   ]
  },
  {
   "cell_type": "code",
   "execution_count": null,
   "id": "1816301f",
   "metadata": {},
   "outputs": [],
   "source": [
    "# Import StandardScaler \n",
    "from sklearn.preprocessing import StandardScaler\n",
    "\n",
    "# Apply log transformation\n",
    "datamart_rfmt_log = np.log(datamart_rfmt)\n",
    "\n",
    "# Initialize StandardScaler and fit it \n",
    "scaler = StandardScaler(); scaler.fit(datamart_rfmt_log)\n",
    "\n",
    "# Transform and store the scaled data as datamart_rfmt_normalized\n",
    "datamart_rfmt_normalized = scaler.transform(datamart_rfmt_log)"
   ]
  },
  {
   "cell_type": "code",
   "execution_count": null,
   "id": "b855a018",
   "metadata": {},
   "outputs": [],
   "source": [
    "datamart_rfmt_log\n",
    "Out[3]:\n",
    "\n",
    "            Recency  Frequency  MonetaryValue  Tenure\n",
    "CustomerID                                           \n",
    "12747         1.099      3.219          6.855   5.892\n",
    "12748         0.000      6.789          8.860   5.900\n",
    "12749         1.386      3.611          6.701   5.366\n",
    "12820         1.386      2.833          5.591   5.790\n",
    "12822         4.263      2.197          4.985   4.477\n",
    "...             ...        ...            ...     ...\n",
    "18280         5.628      0.693          3.656   5.628\n",
    "18281         5.198      0.693          3.459   5.198\n",
    "18282         2.079      0.693          3.424   2.079\n",
    "18283         1.386      5.024          6.071   5.823\n",
    "18287         3.761      2.708          5.981   5.308\n",
    "\n",
    "[3643 rows x 4 columns]"
   ]
  },
  {
   "cell_type": "code",
   "execution_count": null,
   "id": "3e8167d0",
   "metadata": {},
   "outputs": [],
   "source": [
    "In [2]:\n",
    "datamart_rfmt_normalized\n",
    "Out[2]:\n",
    "\n",
    "array([[-2.00220213,  0.865157  ,  1.4649405 ,  0.91969471],\n",
    "       [-2.81451782,  3.81527235,  2.99469233,  0.92875045],\n",
    "       [-1.78948954,  1.18911731,  1.34759823,  0.34290634],\n",
    "       ...,\n",
    "       [-1.27697541, -1.22195523, -1.15248482, -3.26323697],\n",
    "       [-1.78948954,  2.35670574,  0.86642248,  0.84442534],\n",
    "       [-0.03348042,  0.44304102,  0.79793723,  0.27958601]])"
   ]
  },
  {
   "cell_type": "markdown",
   "id": "f4b07f6f",
   "metadata": {},
   "source": [
    "### Calculate and plot sum of squared errors\n",
    "Now, you will calculate the sum of squared errors for different number of clusters ranging from 1 to 10.\n",
    "\n",
    "You will use the normalized RFMT data that you created in the previous exercise, it is stored as datamart_rfmt_normalized. The KMeans module from scikit-learn is also imported. Also, we have initialized an empty dictionary to store sum of squared errors as sse = {}.\n",
    "\n",
    "Feel free to explore the date in the console."
   ]
  },
  {
   "cell_type": "markdown",
   "id": "3b224ac4",
   "metadata": {},
   "source": [
    "Initialize KMeans with k clusters and random state 1 and fit KMeans on the normalized dataset.\n",
    "Assign sum of squared distances to k element of sse dictionary.\n",
    "Add the plot title \"The Elbow Method\", X-axis label \"k\", and Y-axis label \"SSE\".\n",
    "Plot SSE values for each k stored as keys in the dictionary."
   ]
  },
  {
   "cell_type": "code",
   "execution_count": null,
   "id": "da48c935",
   "metadata": {},
   "outputs": [],
   "source": [
    "# Fit KMeans and calculate SSE for each k between 1 and 10\n",
    "for k in range(1, 11):\n",
    "  \n",
    "    # Initialize KMeans with k clusters and fit it \n",
    "    kmeans = KMeans(n_clusters=k, random_state=1 ).fit(datamart_rfmt_normalized)\n",
    "    \n",
    "    # Assign sum of squared distances to k element of the sse dictionary\n",
    "    sse[k] = kmeans.inertia_   \n",
    "\n",
    "# Add the plot title, x and y axis labels\n",
    "plt.title('The Elbow Method')\n",
    "plt.xlabel('k')\n",
    "plt.ylabel('SSE')\n",
    "\n",
    "# Plot SSE values for each k stored as keys in the dictionary\n",
    "sns.pointplot(x=list(sse.keys()), y=list(sse.values()))\n",
    "plt.show()"
   ]
  },
  {
   "cell_type": "code",
   "execution_count": 5,
   "id": "c4cdaec0",
   "metadata": {},
   "outputs": [
    {
     "data": {
      "image/png": "[encoded data removed]",
      "text/plain": [
       "<IPython.core.display.Image object>"
      ]
     },
     "execution_count": 5,
     "metadata": {},
     "output_type": "execute_result"
    }
   ],
   "source": [
    "Image(\"elbow_rfmt.png\")"
   ]
  },
  {
   "cell_type": "markdown",
   "id": "4891a366",
   "metadata": {},
   "source": [
    "Perfect! The elbow is visible around 3-4 clusters!"
   ]
  },
  {
   "cell_type": "markdown",
   "id": "b9893d89",
   "metadata": {},
   "source": [
    "### Build 4-cluster solution\n",
    "Perfect, you can see the the recommended number of clusters is somewhere between 3 and 4. Now, you will build the latter number of clusters in this exercise.\n",
    "\n",
    "The normalized RFMT dataset is available as datamart_rfmt_normalized, feel free to use the console to explore it."
   ]
  },
  {
   "cell_type": "markdown",
   "id": "c2814c5e",
   "metadata": {},
   "source": [
    "Import KMeans from sklearn library.\n",
    "Initialize KMeans with 4 clusters and random state 1.\n",
    "Fit k-means clustering on the normalized data set.\n",
    "Extract cluster labels and store them as cluster_labels object."
   ]
  },
  {
   "cell_type": "code",
   "execution_count": null,
   "id": "e0ed7c55",
   "metadata": {},
   "outputs": [],
   "source": [
    "# Import KMeans \n",
    "from sklearn.cluster import KMeans\n",
    "\n",
    "# Initialize KMeans\n",
    "kmeans = KMeans(n_clusters=4, random_state=1) \n",
    "\n",
    "# Fit k-means clustering on the normalized data set\n",
    "kmeans.fit(datamart_rfmt_normalized)\n",
    "\n",
    "# Extract cluster labels\n",
    "cluster_labels = kmeans.labels_"
   ]
  },
  {
   "cell_type": "markdown",
   "id": "cb77c0f9",
   "metadata": {},
   "source": [
    "This is it! You have built 4-cluster segmentation and can now use it to create customer personas!"
   ]
  },
  {
   "cell_type": "markdown",
   "id": "07d1c9a7",
   "metadata": {},
   "source": [
    "### Analyze the segments\n",
    "Fantastic! Final step - analyzing your segmentation solution - you will analyze the average Recency, Frequency, MonetaryValue and Tenure values for each of the four segments you have built previously. Take some time to analyze them and understand what kind of customer groups and behaviors they represent.\n",
    "\n",
    "The RFMT raw data is available as datamart_rfmt, and the cluster labels from the previous exercise is loaded as cluster_labels. We have also loaded the pandas library as pd."
   ]
  },
  {
   "cell_type": "markdown",
   "id": "34d0894c",
   "metadata": {},
   "source": [
    "Create a new DataFrame by adding a cluster label column to datamart_rfmt.\n",
    "Create a groupby element on a Cluster column.\n",
    "Calculate average RFMT values and segment sizes per each Cluster value."
   ]
  },
  {
   "cell_type": "code",
   "execution_count": null,
   "id": "84028232",
   "metadata": {},
   "outputs": [],
   "source": [
    "# Create a new DataFrame by adding a cluster label column to datamart_rfmt\n",
    "datamart_rfmt_k4 = datamart_rfmt.assign(Cluster=cluster_labels)\n",
    "\n",
    "# Group by cluster\n",
    "grouped = datamart_rfmt_k4.groupby(['Cluster'])\n",
    "\n",
    "# Calculate average RFMT values and segment sizes for each cluster\n",
    "grouped.agg({\n",
    "    'Recency': 'mean',\n",
    "    'Frequency': 'mean',\n",
    "    'MonetaryValue': 'mean',\n",
    "    'Tenure': ['mean', 'count']\n",
    "  }).round(1)"
   ]
  },
  {
   "cell_type": "markdown",
   "id": "b62ebb31",
   "metadata": {},
   "source": [
    "### Final thoughts\n",
    "1. Final thoughts\n",
    "Congratulations on completing this course on Customer segmentation in Python! You have explored a lot of different techniques to group customers!\n",
    "\n",
    "2. What you have learned\n",
    "You have learned the technique called cohort analysis and how to use it to group customers into simple behavioral segments and visualize them in attractive and intuitive ways. You have then explored segmentation method using recency, frequency and monetary value metrics, or simply RFM segmentation. Then, you have have learned how to pre-process RFM data to make sure k-means can discover meaningful segments. Finally, you have built segmentation solutions with k-means clustering algorithm by evaluating the recommended number of clusters, and then analyzing and visualizing different segmentation solutions to identify interesting customer personas.\n",
    "\n",
    "3. Congratulations!\n",
    "Once again, congratulations on finishing this course, and I am looking forward to see you in other courses!"
   ]
  },
  {
   "cell_type": "code",
   "execution_count": null,
   "id": "61aae85e",
   "metadata": {},
   "outputs": [],
   "source": []
  }
 ],
 "metadata": {
  "kernelspec": {
   "display_name": "Python 3 (ipykernel)",
   "language": "python",
   "name": "python3"
  },
  "language_info": {
   "codemirror_mode": {
    "name": "ipython",
    "version": 3
   },
   "file_extension": ".py",
   "mimetype": "text/x-python",
   "name": "python",
   "nbconvert_exporter": "python",
   "pygments_lexer": "ipython3",
   "version": "3.9.12"
  }
 },
 "nbformat": 4,
 "nbformat_minor": 5
}
