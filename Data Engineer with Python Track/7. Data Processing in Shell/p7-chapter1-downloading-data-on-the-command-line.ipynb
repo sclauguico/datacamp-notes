{
 "cells": [
  {
   "cell_type": "markdown",
   "id": "ea990b74",
   "metadata": {},
   "source": [
    "### Downloading data using curl\n",
    "\n",
    "1. Downloading data using curl\n",
    "Welcome to Intermediate Shell! My name is Susan Sun, and I do data work. I'm looking forward to learning with you in this course. In data, many of us bypass the command line in favor of GUI interfaces like Anaconda and RStudio because that is what we are familiar with. However, taking the time to learn data science on the command line is a great long term investment that will, ultimately, make us better and more productive data people. In this course, we take a practical approach and learn command line tools useful for everyday data processing and analyses. First, let's learn how to download data files using curl.\n",
    "\n",
    "2. What is curl?\n",
    "curl, short for Client for URLs, is a Unix command line tool for transferring data to and from a server. It is often used to download data from HTTP sites and FTP servers.\n",
    "\n",
    "3. Checking curl installation\n",
    "To check if curl has been properly installed, type the following in the command line: man curl If curl has not been installed, you will see: curl command not found To install curl, follow this link.\n",
    "\n",
    "4. Browsing the curl Manual\n",
    "If curl is installed, your console will look like this:\n",
    "\n",
    "5. Browsing the curl Manual\n",
    "Keep pressing Enter to scroll through the curl manual. To exit and return to your console, press q.\n",
    "\n",
    "6. Learning curl Syntax\n",
    "The basic syntax for curl has the following structure: curl, option flags, URL The URL is required for the command to run successfully. curl supports a large number of protocol calls. For a full list, use curl dash-dash-help.\n",
    "\n",
    "7. Downloading a Single File\n",
    "Let's download a single file stored at this hypothetical URL using curl. To save the file with its original name datafilename-dot-txt, use the option flag dash-uppercase-O. This reads: curl dash uppercase-O followed by the file URL location To save the file under a different name, replace dash uppercase O with dash lowercase o and the new filename. Now it reads: curl dash lowercase o followed by the new filename and the file URL location\n",
    "\n",
    "8. Downloading Multiple Files using Wildcards\n",
    "Oftentimes, a server will host multiple data files, with similar filenames. Like this: Instead of curl-ing each file individually, we can use wildcards to download all the files at once. To download every file hosted on this server that starts with datafilename and ends in dot-txt, we use: curl dash uppercase-O https colon forwardslash forwardslash websitename-dot-com forwardslash datafilename asterisk dot txt\n",
    "\n",
    "9. Downloading Multiple Files using Globbing Parser\n",
    "Another option is to increment using a globbing parser. The following will download every file sequentially starting with datafilename001-dot-txt and ending with datafilename100-dot-txt. Note the end of the command that reads: square bracket zero zero one dash one hundred close square bracket-dot-txt. That's the globbing at work.\n",
    "\n",
    "10. Downloading Multiple Files using Globbing Parser\n",
    "We can increment through the files and download every Nth file. For example, to download every 10th file, we can modify the globbing parser to read: open square bracket zero zero one dash one hundred colon ten close square bracket dot txt\n",
    "\n",
    "11. Preemptive Troubleshooting\n",
    "Sometimes Internet can time out. To make sure that our download progress is not lost, curl has these two flags: dash-uppercase-L redirects the HTTP URL if a 300 error code occurs. dash-uppercase-C resumes a previous file transfer if it times out before completion. Putting everything together: Note that all option flags come before the URL, but the order of the flags does not matter.\n",
    "\n",
    "12. Happy curl-ing!\n",
    "In this lesson, we learned how to download files using curl. Let's put our new knowledge to practice! Happy curl-ing!"
   ]
  },
  {
   "cell_type": "markdown",
   "id": "f8c78fe9",
   "metadata": {},
   "source": [
    "### Using curl documentation\n",
    "As you work with command line tools you will often need to consult the documentation to remind yourself of the syntax or of some of the available functionality. In this exercise, you'll consult curl's documentation to answer this question:\n",
    "\n",
    "Based on the information in the curl manual, which of the following is NOT a supported file protocol:"
   ]
  },
  {
   "cell_type": "markdown",
   "id": "0235d551",
   "metadata": {},
   "source": [
    "man curl"
   ]
  },
  {
   "cell_type": "markdown",
   "id": "da497a85",
   "metadata": {},
   "source": [
    "OFTP"
   ]
  },
  {
   "cell_type": "markdown",
   "id": "4d8f6ae6",
   "metadata": {},
   "source": [
    "### Downloading single file using curl\n",
    "Let's get some hands on practice for the more commonly used options and flags with curl. The URL for the hosted file is a shortened URL using tinyurl. Because of that, we need to fill out a flag option that allows for redirected URLs."
   ]
  },
  {
   "cell_type": "markdown",
   "id": "218798fa",
   "metadata": {},
   "source": [
    "Fill in the option flag that allow downloading from a redirected URL."
   ]
  },
  {
   "cell_type": "markdown",
   "id": "187b2e42",
   "metadata": {},
   "source": [
    "###### Use curl to download the file from the redirected URL\n",
    "curl -L https://assets.datacamp.com/production/repositories/4180/datasets/eb1d6a36fa3039e4e00064797e1a1600d267b135/201812SpotifyData.zip"
   ]
  },
  {
   "cell_type": "markdown",
   "id": "a4ecd576",
   "metadata": {},
   "source": [
    "In the same step as the download, add in the necessary syntax to rename the downloaded file as Spotify201812.zip."
   ]
  },
  {
   "cell_type": "markdown",
   "id": "2c324a84",
   "metadata": {},
   "source": [
    "###### Download and rename the file in the same step\n",
    "curl -o Spotify201812.zip -L https://assets.datacamp.com/production/repositories/4180/datasets/eb1d6a36fa3039e4e00064797e1a1600d267b135/201812SpotifyData.zip"
   ]
  },
  {
   "cell_type": "markdown",
   "id": "b81f1c4c",
   "metadata": {},
   "source": [
    "### Downloading multiple files using curl\n",
    "We have 100 data files stored in long sequentially named URLs. Scroll right to see the complete URLs.\n",
    "\n",
    "https://s3.amazonaws.com/assets.datacamp.com/production/repositories/4180/datasets/files/datafile001.txt\n",
    "https://s3.amazonaws.com/assets.datacamp.com/production/repositories/4180/datasets/files/datafile002.txt\n",
    "......\n",
    "https://s3.amazonaws.com/assets.datacamp.com/production/repositories/4180/datasets/files/datafile100.txt\n",
    "To minimize having to type the long URLs over and over again, we'd like to download all of these files using a single curl command."
   ]
  },
  {
   "cell_type": "markdown",
   "id": "afca69cb",
   "metadata": {},
   "source": [
    "Download all 100 data files using a single curl command.\n",
    "Print all downloaded files to directory."
   ]
  },
  {
   "cell_type": "markdown",
   "id": "2bbab336",
   "metadata": {},
   "source": [
    "###### Download all 100 data files\n",
    "curl -O https://s3.amazonaws.com/assets.datacamp.com/production/repositories/4180/datasets/files/datafile[001-100].txt\n",
    "\n",
    "###### Print all downloaded files to directory\n",
    "ls datafile*.txt"
   ]
  },
  {
   "cell_type": "markdown",
   "id": "cd0ad72f",
   "metadata": {},
   "source": [
    "Great job! Bracketed characters can be used in conjunction with curl to download multiple files. If you have trouble remembering what each option flag does, you can always try typing curl --help or man curl."
   ]
  },
  {
   "cell_type": "markdown",
   "id": "464bddd9",
   "metadata": {},
   "source": [
    "### Downloading data using Wget\n",
    "\n",
    "\n",
    "1. Downloading data using Wget\n",
    "Welcome back! In this lesson, we will introduce another command line tool for downloading data, called Wget. We will walk through how to install and set up Wget along with some basic usage.\n",
    "\n",
    "2. What is Wget?\n",
    "Wget derives its name from World Wide Web and get. It is a GNU project native to the Linux system, but is compatible across all operating systems. It is another command line tool that will help you download files via HTTP and FTP. Compared to curl, Wget is more multi-purpose. It can download a single file, an entire folder, or even a webpage. Most importantly, it makes multiple file downloads possible recursively.\n",
    "\n",
    "3. Checking Wget Installation\n",
    "Aside from using man, another way to check if Wget has been installed correctly, is by using which Wget. This will return the location of where Wget is installed. For example, in the local user bin: If Wget has not been installed, there will simply be no output.\n",
    "\n",
    "4. Wget Installation by Operating System\n",
    "The official documentation and source code for Wget is listed, but unless you are comfortable compiling from the source code, here are some easier alternatives. For Linux users, it's likely Wget is already installed for you. If not, run sudo apt get install wget on the command line. For Mac users, use homebrew by running brew install wget on the command line. For Windows users, this will not be a command line install. Rather, visit the link listed on the slide to download as part of the gnuwin32 package.\n",
    "\n",
    "5. Browsing the Wget Manual\n",
    "Once installation is complete, use the man command to print the Wget manual. Remember to press Enter to scroll and to press q to exit.\n",
    "\n",
    "6. Learning Wget Syntax\n",
    "The basic syntax for Wget has a similar structure to curl: Wget, option flags, URL The URL is also required for the Wget command to run successfully. Wget supports a large number of protocol calls for data stored on servers. For a full list of the options available, refer to wget dash-dash-help.\n",
    "\n",
    "7. Downloading a Single File\n",
    "Here are some option flags unique to Wget: dash-lowercase-b allows your download to run in the background. dash-lowercase-q turns off the Wget output, which saves some disk space. dash-lowercase-c is useful to finish up a previously broken download whether by Wget or another program. Finally, you can link all the option flags together like this. Wget dash-b-q-c followed by the file location Running this command on this hypothetical file location will generate the output: Continuing in background, pid 12345 The pid is a unique process ID assigned to this particular data download job for your reference, in case you need to cancel the process.\n",
    "\n",
    "8. Have fun Wget-ing!\n",
    "In this lesson, we learned another way to download files in the command line using the tool Wget. Up next, we will put our new knowledge to practice and learn more advanced Wget use cases! Happy Wget-ing!"
   ]
  },
  {
   "cell_type": "code",
   "execution_count": null,
   "id": "98706808",
   "metadata": {},
   "outputs": [],
   "source": []
  }
 ],
 "metadata": {
  "kernelspec": {
   "display_name": "Python 3 (ipykernel)",
   "language": "python",
   "name": "python3"
  },
  "language_info": {
   "codemirror_mode": {
    "name": "ipython",
    "version": 3
   },
   "file_extension": ".py",
   "mimetype": "text/x-python",
   "name": "python",
   "nbconvert_exporter": "python",
   "pygments_lexer": "ipython3",
   "version": "3.9.12"
  }
 },
 "nbformat": 4,
 "nbformat_minor": 5
}
