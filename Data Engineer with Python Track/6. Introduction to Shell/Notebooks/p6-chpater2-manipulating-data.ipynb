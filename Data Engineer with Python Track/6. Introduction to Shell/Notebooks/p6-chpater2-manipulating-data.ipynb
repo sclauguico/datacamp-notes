{
 "cells": [
  {
   "cell_type": "markdown",
   "id": "8ef10678",
   "metadata": {},
   "source": [
    "### How can I view a file's contents?\n",
    "Before you rename or delete files, you may want to have a look at their contents. The simplest way to do this is with cat, which just prints the contents of files onto the screen. (Its name is short for \"concatenate\", meaning \"to link things together\", since it will print all the files whose names you give it, one after the other.)"
   ]
  },
  {
   "cell_type": "markdown",
   "id": "a4111a9b",
   "metadata": {},
   "source": [
    "cat agarwal.txt\n",
    "name: Agarwal, Jasmine\n",
    "position: RCT2\n",
    "start: 2017-04-01\n",
    "benefits: full"
   ]
  },
  {
   "cell_type": "markdown",
   "id": "0546b73c",
   "metadata": {},
   "source": [
    "Print the contents of course.txt to the screen."
   ]
  },
  {
   "cell_type": "markdown",
   "id": "0c6a2d1f",
   "metadata": {},
   "source": [
    "#### Answer\n",
    "cat course.txt"
   ]
  },
  {
   "cell_type": "markdown",
   "id": "ecea4d74",
   "metadata": {},
   "source": [
    "### How can I view a file's contents piece by piece?\n",
    "You can use cat to print large files and then scroll through the output, but it is usually more convenient to page the output. The original command for doing this was called more, but it has been superseded by a more powerful command called less. (This kind of naming is what passes for humor in the Unix world.) When you less a file, one page is displayed at a time; you can press spacebar to page down or type q to quit.\n",
    "\n",
    "If you give less the names of several files, you can type :n (colon and a lower-case 'n') to move to the next file, :p to go back to the previous one, or :q to quit.\n",
    "\n",
    "Note: If you view solutions to exercises that use less, you will see an extra command at the end that turns paging off so that we can test your solutions efficiently."
   ]
  },
  {
   "cell_type": "markdown",
   "id": "7ff5bcc3",
   "metadata": {},
   "source": [
    "Use less seasonal/spring.csv seasonal/summer.csv to view those two files in that order. Press spacebar to page down, :n to go to the second file, and :q to quit."
   ]
  },
  {
   "cell_type": "markdown",
   "id": "d2a17ec0",
   "metadata": {},
   "source": [
    "##### Answer\n",
    "less seasonal/spring.csv seasonal/summer.csv\n",
    ":n \n",
    ":q"
   ]
  },
  {
   "cell_type": "markdown",
   "id": "e604a210",
   "metadata": {},
   "source": [
    "### How can I look at the start of a file?\n",
    "The first thing most data scientists do when given a new dataset to analyze is figure out what fields it contains and what values those fields have. If the dataset has been exported from a database or spreadsheet, it will often be stored as comma-separated values (CSV). A quick way to figure out what it contains is to look at the first few rows.\n",
    "\n",
    "We can do this in the shell using a command called head. As its name suggests, it prints the first few lines of a file (where \"a few\" means 10), so the command:"
   ]
  },
  {
   "cell_type": "markdown",
   "id": "b7b4c2d7",
   "metadata": {},
   "source": [
    "head seasonal/summer.csv\n",
    "displays:\n",
    "\n",
    "Date,Tooth\n",
    "2017-01-11,canine\n",
    "2017-01-18,wisdom\n",
    "2017-01-21,bicuspid\n",
    "2017-02-02,molar\n",
    "2017-02-27,wisdom\n",
    "2017-02-27,wisdom\n",
    "2017-03-07,bicuspid\n",
    "2017-03-15,wisdom\n",
    "2017-03-20,canine"
   ]
  },
  {
   "cell_type": "markdown",
   "id": "42456c19",
   "metadata": {},
   "source": [
    "What does head do if there aren't 10 lines in the file? (To find out, use it to look at the top of people/agarwal.txt.)"
   ]
  },
  {
   "cell_type": "markdown",
   "id": "ef792bd8",
   "metadata": {},
   "source": [
    "##### Answer\n",
    "Display as many lines as there are.\n"
   ]
  },
  {
   "cell_type": "markdown",
   "id": "a1de0987",
   "metadata": {},
   "source": [
    "### How can I type less?\n",
    "One of the shell's power tools is tab completion. If you start typing the name of a file and then press the tab key, the shell will do its best to auto-complete the path. For example, if you type sea and press tab, it will fill in the directory name seasonal/ (with a trailing slash). If you then type a and tab, it will complete the path as seasonal/autumn.csv.\n",
    "\n",
    "If the path is ambiguous, such as seasonal/s, pressing tab a second time will display a list of possibilities. Typing another character or two to make your path more specific and then pressing tab will fill in the rest of the name."
   ]
  },
  {
   "cell_type": "markdown",
   "id": "f25e53d9",
   "metadata": {},
   "source": [
    "Good work! Once you get used to using tab completion, it will save you a lot of time!"
   ]
  },
  {
   "cell_type": "markdown",
   "id": "bf241b21",
   "metadata": {},
   "source": [
    "### How can I control what commands do?\n",
    "You won't always want to look at the first 10 lines of a file, so the shell lets you change head's behavior by giving it a command-line flag (or just \"flag\" for short). If you run the command:\n",
    "\n",
    "head -n 3 seasonal/summer.csv\n",
    "head will only display the first three lines of the file. If you run head -n 100, it will display the first 100 (assuming there are that many), and so on.\n",
    "\n",
    "A flag's name usually indicates its purpose (for example, -n is meant to signal \"number of lines\"). Command flags don't have to be a - followed by a single letter, but it's a widely-used convention.\n",
    "\n",
    "Note: it's considered good style to put all flags before any filenames, so in this course, we only accept answers that do that."
   ]
  },
  {
   "cell_type": "markdown",
   "id": "9a89f6df",
   "metadata": {},
   "source": [
    "##### Answer\n",
    "head -n 5 seasonal/winter.csv"
   ]
  },
  {
   "cell_type": "markdown",
   "id": "60db09fa",
   "metadata": {},
   "source": [
    "### How can I list everything below a directory?\n",
    "In order to see everything underneath a directory, no matter how deeply nested it is, you can give ls the flag -R (which means \"recursive\"). If you use ls -R in your home directory, you will see something like this:\n",
    "\n",
    "backup          course.txt      people          seasonal\n",
    "\n",
    "./backup:\n",
    "\n",
    "./people:\n",
    "agarwal.txt\n",
    "\n",
    "./seasonal:\n",
    "autumn.csv      spring.csv      summer.csv      winter.csv\n",
    "This shows every file and directory in the current level, then everything in each sub-directory, and so on."
   ]
  },
  {
   "cell_type": "markdown",
   "id": "ff25694c",
   "metadata": {},
   "source": [
    "To help you know what is what, ls has another flag -F that prints a / after the name of every directory and a * after the name of every runnable program. Run ls with the two flags, -R and -F, and the absolute path to your home directory to see everything it contains. (The order of the flags doesn't matter, but the directory name must come last.)"
   ]
  },
  {
   "cell_type": "markdown",
   "id": "694c07f2",
   "metadata": {},
   "source": [
    "##### Answer\n",
    "ls -F -R"
   ]
  },
  {
   "cell_type": "markdown",
   "id": "9ea894e9",
   "metadata": {},
   "source": [
    "### How can I get help for a command?\n",
    "To find out what commands do, people used to use the man command (short for \"manual\"). For example, the command man head brings up this information:"
   ]
  },
  {
   "cell_type": "markdown",
   "id": "8c796420",
   "metadata": {},
   "source": [
    "HEAD(1)               BSD General Commands Manual              HEAD(1)\n",
    "\n",
    "NAME\n",
    "     head -- display first lines of a file\n",
    "\n",
    "SYNOPSIS\n",
    "     head [-n count | -c bytes] [file ...]\n",
    "\n",
    "DESCRIPTION\n",
    "     This filter displays the first count lines or bytes of each of\n",
    "     the specified files, or of the standard input if no files are\n",
    "     specified.  If count is omitted it defaults to 10.\n",
    "\n",
    "     If more than a single file is specified, each file is preceded by\n",
    "     a header consisting of the string ``==> XXX <=='' where ``XXX''\n",
    "     is the name of the file.\n",
    "\n",
    "SEE ALSO\n",
    "     tail(1)"
   ]
  },
  {
   "cell_type": "markdown",
   "id": "7adaa3a2",
   "metadata": {},
   "source": [
    "man automatically invokes less, so you may need to press spacebar to page through the information and :q to quit.\n",
    "\n",
    "The one-line description under NAME tells you briefly what the command does, and the summary under SYNOPSIS lists all the flags it understands. Anything that is optional is shown in square brackets [...], either/or alternatives are separated by |, and things that can be repeated are shown by ..., so head's manual page is telling you that you can either give a line count with -n or a byte count with -c, and that you can give it any number of filenames.\n",
    "\n",
    "The problem with the Unix manual is that you have to know what you're looking for. If you don't, you can search Stack Overflow, ask a question on DataCamp's Slack channels, or look at the SEE ALSO sections of the commands you already know."
   ]
  },
  {
   "cell_type": "markdown",
   "id": "80b25a2e",
   "metadata": {},
   "source": [
    "##### Answer\n",
    "man tail \n",
    "[space bar]\n",
    ":q\n",
    "tail -n +7 seasonal/spring.csv"
   ]
  },
  {
   "cell_type": "markdown",
   "id": "16f1960f",
   "metadata": {},
   "source": [
    "### How can I select columns from a file?\n",
    "head and tail let you select rows from a text file. If you want to select columns, you can use the command cut. It has several options (use man cut to explore them), but the most common is something like:\n",
    "\n",
    "cut -f 2-5,8 -d , values.csv\n",
    "which means \"select columns 2 through 5 and columns 8, using comma as the separator\". cut uses -f (meaning \"fields\") to specify columns and -d (meaning \"delimiter\") to specify the separator. You need to specify the latter because some files may use spaces, tabs, or colons to separate columns.\n",
    "\n",
    "What command will select the first column (containing dates) from the file spring.csv?"
   ]
  },
  {
   "cell_type": "markdown",
   "id": "3370f8ae",
   "metadata": {},
   "source": [
    "##### Answer\n",
    "cut -d , -f 1 seasonal/spring.csv\n",
    "cut -d, -f1 seasonal/spring.csv\n",
    "\n",
    "Final: Either of the above"
   ]
  },
  {
   "cell_type": "markdown",
   "id": "fbdc2c31",
   "metadata": {},
   "source": [
    "### What can't cut do?\n",
    "cut is a simple-minded command. In particular, it doesn't understand quoted strings. If, for example, your file is:\n",
    "\n",
    "Name,Age\n",
    "\"Johel,Ranjit\",28\n",
    "\"Sharma,Rupinder\",26\n",
    "then:\n",
    "\n",
    "cut -f 2 -d , everyone.csv\n",
    "will produce:\n",
    "\n",
    "Age\n",
    "Ranjit\"\n",
    "Rupinder\"\n",
    "rather than everyone's age, because it will think the comma between last and first names is a column separator.\n",
    "\n",
    "What is the output of cut -d : -f 2-4 on the line:\n",
    "\n",
    "first:second:third:\n",
    "(Note the trailing colon.)"
   ]
  },
  {
   "cell_type": "markdown",
   "id": "ffb3628e",
   "metadata": {},
   "source": [
    "#### Answer\n",
    "second:third:"
   ]
  },
  {
   "cell_type": "markdown",
   "id": "369ddc2a",
   "metadata": {},
   "source": [
    "### How can I repeat commands?\n",
    "One of the biggest advantages of using the shell is that it makes it easy for you to do things over again. If you run some commands, you can then press the up-arrow key to cycle back through them. You can also use the left and right arrow keys and the delete key to edit them. Pressing return will then run the modified command.\n",
    "\n",
    "Even better, history will print a list of commands you have run recently. Each one is preceded by a serial number to make it easy to re-run particular commands: just type !55 to re-run the 55th command in your history (if you have that many). You can also re-run a command by typing an exclamation mark followed by the command's name, such as !head or !cut, which will re-run the most recent use of that command."
   ]
  },
  {
   "cell_type": "markdown",
   "id": "dfc42d66",
   "metadata": {},
   "source": [
    "##### Answer\n",
    "1. head summer.csv\n",
    "2. cd seasonal\n",
    "3. !head\n",
    "4. history\n",
    "5. !head 3\n"
   ]
  },
  {
   "cell_type": "markdown",
   "id": "c6baa609",
   "metadata": {},
   "source": [
    "### How can I select lines containing specific values?\n",
    "head and tail select rows, cut selects columns, and grep selects lines according to what they contain. In its simplest form, grep takes a piece of text followed by one or more filenames and prints all of the lines in those files that contain that text. For example, grep bicuspid seasonal/winter.csv prints lines from winter.csv that contain \"bicuspid\".\n",
    "\n",
    "grep can search for patterns as well; we will explore those in the next course. What's more important right now is some of grep's more common flags:\n",
    "\n",
    "-c: print a count of matching lines rather than the lines themselves\n",
    "-h: do not print the names of files when searching multiple files\n",
    "-i: ignore case (e.g., treat \"Regression\" and \"regression\" as matches)\n",
    "-l: print the names of files that contain matches, not the matches\n",
    "-n: print line numbers for matching lines\n",
    "-v: invert the match, i.e., only show lines that don't match"
   ]
  },
  {
   "cell_type": "markdown",
   "id": "6c2f35c6",
   "metadata": {},
   "source": [
    "Print the contents of all of the lines containing the word molar in seasonal/autumn.csv by running a single command while in your home directory. Don't use any flags."
   ]
  },
  {
   "cell_type": "markdown",
   "id": "c9581829",
   "metadata": {},
   "source": [
    "##### Answer\n",
    "grep molar seasonal/autumn.csv"
   ]
  },
  {
   "cell_type": "markdown",
   "id": "562ffeba",
   "metadata": {},
   "source": [
    "Invert the match to find all of the lines that don't contain the word molar in seasonal/spring.csv, and show their line numbers. Remember, it's considered good style to put all of the flags before other values like filenames or the search term \"molar\"."
   ]
  },
  {
   "cell_type": "markdown",
   "id": "8588aacf",
   "metadata": {},
   "source": [
    "##### Answer\n",
    "grep -n -v molar seasonal/spring.csv"
   ]
  },
  {
   "cell_type": "markdown",
   "id": "c24c6851",
   "metadata": {},
   "source": [
    "Count how many lines contain the word incisor in autumn.csv and winter.csv combined. (Again, run a single command from your home directory.)"
   ]
  },
  {
   "cell_type": "markdown",
   "id": "64cf3682",
   "metadata": {},
   "source": [
    "##### Answer\n",
    "grep -c incisor seasonal/autumn.csv seasonal/winter.csv"
   ]
  },
  {
   "cell_type": "markdown",
   "id": "bb694192",
   "metadata": {},
   "source": [
    "### Why isn't it always safe to treat data as text?\n",
    "The SEE ALSO section of the manual page for cut refers to a command called paste that can be used to combine data files instead of cutting them up.\n",
    "\n",
    "Read the manual page for paste, and then run paste to combine the autumn and winter data files in a single table using a comma as a separator. What's wrong with the output from a data analysis point of view?"
   ]
  },
  {
   "cell_type": "markdown",
   "id": "fd8fd6f8",
   "metadata": {},
   "source": [
    "##### Answer\n",
    "man paste\n",
    "paste seasonal/autumn.csv seasonal/winter.csv\n",
    "The last few rows have the wrong number of columns."
   ]
  },
  {
   "cell_type": "code",
   "execution_count": null,
   "id": "fa532d62",
   "metadata": {},
   "outputs": [],
   "source": []
  }
 ],
 "metadata": {
  "kernelspec": {
   "display_name": "Python 3 (ipykernel)",
   "language": "python",
   "name": "python3"
  },
  "language_info": {
   "codemirror_mode": {
    "name": "ipython",
    "version": 3
   },
   "file_extension": ".py",
   "mimetype": "text/x-python",
   "name": "python",
   "nbconvert_exporter": "python",
   "pygments_lexer": "ipython3",
   "version": "3.9.12"
  }
 },
 "nbformat": 4,
 "nbformat_minor": 5
}
