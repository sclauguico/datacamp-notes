{
 "cells": [
  {
   "cell_type": "markdown",
   "id": "628d96cc",
   "metadata": {},
   "source": [
    "# 1 Working with Time Series in Pandas"
   ]
  },
  {
   "cell_type": "markdown",
   "id": "0ae748fc",
   "metadata": {},
   "source": [
    "### Your first time series"
   ]
  },
  {
   "cell_type": "code",
   "execution_count": 1,
   "id": "607a3522",
   "metadata": {},
   "outputs": [],
   "source": [
    "import pandas as pd\n",
    "import matplotlib.pyplot as plt "
   ]
  },
  {
   "cell_type": "code",
   "execution_count": 2,
   "id": "89af0095",
   "metadata": {},
   "outputs": [
    {
     "name": "stdout",
     "output_type": "stream",
     "text": [
      "6 Sunday\n",
      "0 Monday\n",
      "1 Tuesday\n",
      "2 Wednesday\n",
      "3 Thursday\n",
      "4 Friday\n",
      "5 Saturday\n"
     ]
    }
   ],
   "source": [
    "# Create the range of dates here\n",
    "seven_days = pd.date_range(start='2017-1-1', periods=7, freq='D')\n",
    "\n",
    "# Iterate over the dates and print the number and name of the weekday\n",
    "for day in seven_days:\n",
    "    print(day.dayofweek, day.day_name())"
   ]
  },
  {
   "cell_type": "markdown",
   "id": "ea8a5d28",
   "metadata": {},
   "source": [
    "### Create a time series of air quality data"
   ]
  },
  {
   "cell_type": "code",
   "execution_count": 3,
   "id": "2408cf88",
   "metadata": {},
   "outputs": [
    {
     "data": {
      "text/html": [
       "<div>\n",
       "<style scoped>\n",
       "    .dataframe tbody tr th:only-of-type {\n",
       "        vertical-align: middle;\n",
       "    }\n",
       "\n",
       "    .dataframe tbody tr th {\n",
       "        vertical-align: top;\n",
       "    }\n",
       "\n",
       "    .dataframe thead th {\n",
       "        text-align: right;\n",
       "    }\n",
       "</style>\n",
       "<table border=\"1\" class=\"dataframe\">\n",
       "  <thead>\n",
       "    <tr style=\"text-align: right;\">\n",
       "      <th></th>\n",
       "      <th>date</th>\n",
       "      <th>ozone</th>\n",
       "      <th>pm25</th>\n",
       "      <th>co</th>\n",
       "    </tr>\n",
       "  </thead>\n",
       "  <tbody>\n",
       "    <tr>\n",
       "      <th>0</th>\n",
       "      <td>1999-07-01</td>\n",
       "      <td>0.012024</td>\n",
       "      <td>20.000000</td>\n",
       "      <td>1.300686</td>\n",
       "    </tr>\n",
       "    <tr>\n",
       "      <th>1</th>\n",
       "      <td>1999-07-02</td>\n",
       "      <td>0.027699</td>\n",
       "      <td>23.900000</td>\n",
       "      <td>0.958194</td>\n",
       "    </tr>\n",
       "    <tr>\n",
       "      <th>2</th>\n",
       "      <td>1999-07-03</td>\n",
       "      <td>0.043969</td>\n",
       "      <td>36.700000</td>\n",
       "      <td>1.194444</td>\n",
       "    </tr>\n",
       "    <tr>\n",
       "      <th>3</th>\n",
       "      <td>1999-07-04</td>\n",
       "      <td>0.035161</td>\n",
       "      <td>39.000000</td>\n",
       "      <td>1.081548</td>\n",
       "    </tr>\n",
       "    <tr>\n",
       "      <th>4</th>\n",
       "      <td>1999-07-05</td>\n",
       "      <td>0.038359</td>\n",
       "      <td>28.171429</td>\n",
       "      <td>0.939583</td>\n",
       "    </tr>\n",
       "  </tbody>\n",
       "</table>\n",
       "</div>"
      ],
      "text/plain": [
       "         date     ozone       pm25        co\n",
       "0  1999-07-01  0.012024  20.000000  1.300686\n",
       "1  1999-07-02  0.027699  23.900000  0.958194\n",
       "2  1999-07-03  0.043969  36.700000  1.194444\n",
       "3  1999-07-04  0.035161  39.000000  1.081548\n",
       "4  1999-07-05  0.038359  28.171429  0.939583"
      ]
     },
     "execution_count": 3,
     "metadata": {},
     "output_type": "execute_result"
    }
   ],
   "source": [
    "data = pd.read_csv(\"air_quality_data/nyc.csv\")\n",
    "\n",
    "data.head()"
   ]
  },
  {
   "cell_type": "code",
   "execution_count": 4,
   "id": "b3cfb3cf",
   "metadata": {},
   "outputs": [
    {
     "name": "stdout",
     "output_type": "stream",
     "text": [
      "<class 'pandas.core.frame.DataFrame'>\n",
      "RangeIndex: 6317 entries, 0 to 6316\n",
      "Data columns (total 4 columns):\n",
      " #   Column  Non-Null Count  Dtype  \n",
      "---  ------  --------------  -----  \n",
      " 0   date    6317 non-null   object \n",
      " 1   ozone   6317 non-null   float64\n",
      " 2   pm25    6317 non-null   float64\n",
      " 3   co      6317 non-null   float64\n",
      "dtypes: float64(3), object(1)\n",
      "memory usage: 197.5+ KB\n",
      "None\n"
     ]
    }
   ],
   "source": [
    "# Inspect data\n",
    "print(data.info())"
   ]
  },
  {
   "cell_type": "code",
   "execution_count": 5,
   "id": "d62444a7",
   "metadata": {},
   "outputs": [
    {
     "name": "stdout",
     "output_type": "stream",
     "text": [
      "<class 'pandas.core.frame.DataFrame'>\n",
      "RangeIndex: 6317 entries, 0 to 6316\n",
      "Data columns (total 4 columns):\n",
      " #   Column  Non-Null Count  Dtype         \n",
      "---  ------  --------------  -----         \n",
      " 0   date    6317 non-null   datetime64[ns]\n",
      " 1   ozone   6317 non-null   float64       \n",
      " 2   pm25    6317 non-null   float64       \n",
      " 3   co      6317 non-null   float64       \n",
      "dtypes: datetime64[ns](1), float64(3)\n",
      "memory usage: 197.5 KB\n",
      "None\n"
     ]
    }
   ],
   "source": [
    "data.date = pd.to_datetime(data.date)\n",
    "print(data.info())"
   ]
  },
  {
   "cell_type": "code",
   "execution_count": 6,
   "id": "23e646f6",
   "metadata": {},
   "outputs": [
    {
     "data": {
      "text/html": [
       "<div>\n",
       "<style scoped>\n",
       "    .dataframe tbody tr th:only-of-type {\n",
       "        vertical-align: middle;\n",
       "    }\n",
       "\n",
       "    .dataframe tbody tr th {\n",
       "        vertical-align: top;\n",
       "    }\n",
       "\n",
       "    .dataframe thead th {\n",
       "        text-align: right;\n",
       "    }\n",
       "</style>\n",
       "<table border=\"1\" class=\"dataframe\">\n",
       "  <thead>\n",
       "    <tr style=\"text-align: right;\">\n",
       "      <th></th>\n",
       "      <th>date</th>\n",
       "      <th>ozone</th>\n",
       "      <th>pm25</th>\n",
       "      <th>co</th>\n",
       "    </tr>\n",
       "  </thead>\n",
       "  <tbody>\n",
       "    <tr>\n",
       "      <th>0</th>\n",
       "      <td>1999-07-01</td>\n",
       "      <td>0.012024</td>\n",
       "      <td>20.000000</td>\n",
       "      <td>1.300686</td>\n",
       "    </tr>\n",
       "    <tr>\n",
       "      <th>1</th>\n",
       "      <td>1999-07-02</td>\n",
       "      <td>0.027699</td>\n",
       "      <td>23.900000</td>\n",
       "      <td>0.958194</td>\n",
       "    </tr>\n",
       "    <tr>\n",
       "      <th>2</th>\n",
       "      <td>1999-07-03</td>\n",
       "      <td>0.043969</td>\n",
       "      <td>36.700000</td>\n",
       "      <td>1.194444</td>\n",
       "    </tr>\n",
       "    <tr>\n",
       "      <th>3</th>\n",
       "      <td>1999-07-04</td>\n",
       "      <td>0.035161</td>\n",
       "      <td>39.000000</td>\n",
       "      <td>1.081548</td>\n",
       "    </tr>\n",
       "    <tr>\n",
       "      <th>4</th>\n",
       "      <td>1999-07-05</td>\n",
       "      <td>0.038359</td>\n",
       "      <td>28.171429</td>\n",
       "      <td>0.939583</td>\n",
       "    </tr>\n",
       "  </tbody>\n",
       "</table>\n",
       "</div>"
      ],
      "text/plain": [
       "        date     ozone       pm25        co\n",
       "0 1999-07-01  0.012024  20.000000  1.300686\n",
       "1 1999-07-02  0.027699  23.900000  0.958194\n",
       "2 1999-07-03  0.043969  36.700000  1.194444\n",
       "3 1999-07-04  0.035161  39.000000  1.081548\n",
       "4 1999-07-05  0.038359  28.171429  0.939583"
      ]
     },
     "execution_count": 6,
     "metadata": {},
     "output_type": "execute_result"
    }
   ],
   "source": [
    "data.head()"
   ]
  },
  {
   "cell_type": "code",
   "execution_count": 7,
   "id": "18f862d3",
   "metadata": {},
   "outputs": [
    {
     "name": "stdout",
     "output_type": "stream",
     "text": [
      "<class 'pandas.core.frame.DataFrame'>\n",
      "DatetimeIndex: 6317 entries, 1999-07-01 to 2017-03-31\n",
      "Data columns (total 3 columns):\n",
      " #   Column  Non-Null Count  Dtype  \n",
      "---  ------  --------------  -----  \n",
      " 0   ozone   6317 non-null   float64\n",
      " 1   pm25    6317 non-null   float64\n",
      " 2   co      6317 non-null   float64\n",
      "dtypes: float64(3)\n",
      "memory usage: 197.4 KB\n",
      "None\n"
     ]
    }
   ],
   "source": [
    "data.set_index('date', inplace=True)\n",
    "print(data.info())"
   ]
  },
  {
   "cell_type": "code",
   "execution_count": 8,
   "id": "3b46500c",
   "metadata": {},
   "outputs": [
    {
     "data": {
      "text/html": [
       "<div>\n",
       "<style scoped>\n",
       "    .dataframe tbody tr th:only-of-type {\n",
       "        vertical-align: middle;\n",
       "    }\n",
       "\n",
       "    .dataframe tbody tr th {\n",
       "        vertical-align: top;\n",
       "    }\n",
       "\n",
       "    .dataframe thead th {\n",
       "        text-align: right;\n",
       "    }\n",
       "</style>\n",
       "<table border=\"1\" class=\"dataframe\">\n",
       "  <thead>\n",
       "    <tr style=\"text-align: right;\">\n",
       "      <th></th>\n",
       "      <th>ozone</th>\n",
       "      <th>pm25</th>\n",
       "      <th>co</th>\n",
       "    </tr>\n",
       "    <tr>\n",
       "      <th>date</th>\n",
       "      <th></th>\n",
       "      <th></th>\n",
       "      <th></th>\n",
       "    </tr>\n",
       "  </thead>\n",
       "  <tbody>\n",
       "    <tr>\n",
       "      <th>1999-07-01</th>\n",
       "      <td>0.012024</td>\n",
       "      <td>20.000000</td>\n",
       "      <td>1.300686</td>\n",
       "    </tr>\n",
       "    <tr>\n",
       "      <th>1999-07-02</th>\n",
       "      <td>0.027699</td>\n",
       "      <td>23.900000</td>\n",
       "      <td>0.958194</td>\n",
       "    </tr>\n",
       "    <tr>\n",
       "      <th>1999-07-03</th>\n",
       "      <td>0.043969</td>\n",
       "      <td>36.700000</td>\n",
       "      <td>1.194444</td>\n",
       "    </tr>\n",
       "    <tr>\n",
       "      <th>1999-07-04</th>\n",
       "      <td>0.035161</td>\n",
       "      <td>39.000000</td>\n",
       "      <td>1.081548</td>\n",
       "    </tr>\n",
       "    <tr>\n",
       "      <th>1999-07-05</th>\n",
       "      <td>0.038359</td>\n",
       "      <td>28.171429</td>\n",
       "      <td>0.939583</td>\n",
       "    </tr>\n",
       "  </tbody>\n",
       "</table>\n",
       "</div>"
      ],
      "text/plain": [
       "               ozone       pm25        co\n",
       "date                                     \n",
       "1999-07-01  0.012024  20.000000  1.300686\n",
       "1999-07-02  0.027699  23.900000  0.958194\n",
       "1999-07-03  0.043969  36.700000  1.194444\n",
       "1999-07-04  0.035161  39.000000  1.081548\n",
       "1999-07-05  0.038359  28.171429  0.939583"
      ]
     },
     "execution_count": 8,
     "metadata": {},
     "output_type": "execute_result"
    }
   ],
   "source": [
    "data.head()"
   ]
  },
  {
   "cell_type": "code",
   "execution_count": 9,
   "id": "5f8ff678",
   "metadata": {},
   "outputs": [
    {
     "data": {
      "image/png": "[encoded data removed]",
      "text/plain": [
       "<Figure size 432x288 with 3 Axes>"
      ]
     },
     "metadata": {
      "needs_background": "light"
     },
     "output_type": "display_data"
    }
   ],
   "source": [
    "# Plot data\n",
    "data.plot(subplots=True)\n",
    "plt.tight_layout()\n",
    "plt.show()"
   ]
  },
  {
   "cell_type": "markdown",
   "id": "3d19e284",
   "metadata": {},
   "source": [
    "### Compare annual stock price trends"
   ]
  },
  {
   "cell_type": "code",
   "execution_count": 10,
   "id": "6e7878c5",
   "metadata": {},
   "outputs": [
    {
     "data": {
      "text/html": [
       "<div>\n",
       "<style scoped>\n",
       "    .dataframe tbody tr th:only-of-type {\n",
       "        vertical-align: middle;\n",
       "    }\n",
       "\n",
       "    .dataframe tbody tr th {\n",
       "        vertical-align: top;\n",
       "    }\n",
       "\n",
       "    .dataframe thead th {\n",
       "        text-align: right;\n",
       "    }\n",
       "</style>\n",
       "<table border=\"1\" class=\"dataframe\">\n",
       "  <thead>\n",
       "    <tr style=\"text-align: right;\">\n",
       "      <th></th>\n",
       "      <th>date</th>\n",
       "      <th>price</th>\n",
       "    </tr>\n",
       "  </thead>\n",
       "  <tbody>\n",
       "    <tr>\n",
       "      <th>0</th>\n",
       "      <td>2013-01-02</td>\n",
       "      <td>20.08</td>\n",
       "    </tr>\n",
       "    <tr>\n",
       "      <th>1</th>\n",
       "      <td>2013-01-03</td>\n",
       "      <td>19.78</td>\n",
       "    </tr>\n",
       "    <tr>\n",
       "      <th>2</th>\n",
       "      <td>2013-01-04</td>\n",
       "      <td>19.86</td>\n",
       "    </tr>\n",
       "    <tr>\n",
       "      <th>3</th>\n",
       "      <td>2013-01-07</td>\n",
       "      <td>19.40</td>\n",
       "    </tr>\n",
       "    <tr>\n",
       "      <th>4</th>\n",
       "      <td>2013-01-08</td>\n",
       "      <td>19.66</td>\n",
       "    </tr>\n",
       "  </tbody>\n",
       "</table>\n",
       "</div>"
      ],
      "text/plain": [
       "         date  price\n",
       "0  2013-01-02  20.08\n",
       "1  2013-01-03  19.78\n",
       "2  2013-01-04  19.86\n",
       "3  2013-01-07  19.40\n",
       "4  2013-01-08  19.66"
      ]
     },
     "execution_count": 10,
     "metadata": {},
     "output_type": "execute_result"
    }
   ],
   "source": [
    "yahoo = pd.read_csv(\"stock_data/yahoo.csv\")\n",
    "yahoo.head()"
   ]
  },
  {
   "cell_type": "code",
   "execution_count": 11,
   "id": "200b7453",
   "metadata": {},
   "outputs": [
    {
     "name": "stdout",
     "output_type": "stream",
     "text": [
      "<class 'pandas.core.frame.DataFrame'>\n",
      "RangeIndex: 782 entries, 0 to 781\n",
      "Data columns (total 2 columns):\n",
      " #   Column  Non-Null Count  Dtype  \n",
      "---  ------  --------------  -----  \n",
      " 0   date    782 non-null    object \n",
      " 1   price   756 non-null    float64\n",
      "dtypes: float64(1), object(1)\n",
      "memory usage: 12.3+ KB\n"
     ]
    }
   ],
   "source": [
    "yahoo.info()"
   ]
  },
  {
   "cell_type": "code",
   "execution_count": 12,
   "id": "69fe5e21",
   "metadata": {},
   "outputs": [
    {
     "name": "stdout",
     "output_type": "stream",
     "text": [
      "<class 'pandas.core.frame.DataFrame'>\n",
      "RangeIndex: 782 entries, 0 to 781\n",
      "Data columns (total 2 columns):\n",
      " #   Column  Non-Null Count  Dtype         \n",
      "---  ------  --------------  -----         \n",
      " 0   date    782 non-null    datetime64[ns]\n",
      " 1   price   756 non-null    float64       \n",
      "dtypes: datetime64[ns](1), float64(1)\n",
      "memory usage: 12.3 KB\n",
      "None\n"
     ]
    }
   ],
   "source": [
    "yahoo.date = pd.to_datetime(yahoo.date)\n",
    "print(yahoo.info())"
   ]
  },
  {
   "cell_type": "code",
   "execution_count": 13,
   "id": "5cf1fa01",
   "metadata": {},
   "outputs": [
    {
     "name": "stdout",
     "output_type": "stream",
     "text": [
      "<class 'pandas.core.frame.DataFrame'>\n",
      "DatetimeIndex: 782 entries, 2013-01-02 to 2015-12-31\n",
      "Data columns (total 1 columns):\n",
      " #   Column  Non-Null Count  Dtype  \n",
      "---  ------  --------------  -----  \n",
      " 0   price   756 non-null    float64\n",
      "dtypes: float64(1)\n",
      "memory usage: 12.2 KB\n",
      "None\n"
     ]
    }
   ],
   "source": [
    "yahoo.set_index('date', inplace=True)\n",
    "print(yahoo.info())"
   ]
  },
  {
   "cell_type": "code",
   "execution_count": 14,
   "id": "68339205",
   "metadata": {},
   "outputs": [
    {
     "data": {
      "text/html": [
       "<div>\n",
       "<style scoped>\n",
       "    .dataframe tbody tr th:only-of-type {\n",
       "        vertical-align: middle;\n",
       "    }\n",
       "\n",
       "    .dataframe tbody tr th {\n",
       "        vertical-align: top;\n",
       "    }\n",
       "\n",
       "    .dataframe thead th {\n",
       "        text-align: right;\n",
       "    }\n",
       "</style>\n",
       "<table border=\"1\" class=\"dataframe\">\n",
       "  <thead>\n",
       "    <tr style=\"text-align: right;\">\n",
       "      <th></th>\n",
       "      <th>price</th>\n",
       "    </tr>\n",
       "    <tr>\n",
       "      <th>date</th>\n",
       "      <th></th>\n",
       "    </tr>\n",
       "  </thead>\n",
       "  <tbody>\n",
       "    <tr>\n",
       "      <th>2013-01-02</th>\n",
       "      <td>20.08</td>\n",
       "    </tr>\n",
       "    <tr>\n",
       "      <th>2013-01-03</th>\n",
       "      <td>19.78</td>\n",
       "    </tr>\n",
       "    <tr>\n",
       "      <th>2013-01-04</th>\n",
       "      <td>19.86</td>\n",
       "    </tr>\n",
       "    <tr>\n",
       "      <th>2013-01-07</th>\n",
       "      <td>19.40</td>\n",
       "    </tr>\n",
       "    <tr>\n",
       "      <th>2013-01-08</th>\n",
       "      <td>19.66</td>\n",
       "    </tr>\n",
       "  </tbody>\n",
       "</table>\n",
       "</div>"
      ],
      "text/plain": [
       "            price\n",
       "date             \n",
       "2013-01-02  20.08\n",
       "2013-01-03  19.78\n",
       "2013-01-04  19.86\n",
       "2013-01-07  19.40\n",
       "2013-01-08  19.66"
      ]
     },
     "execution_count": 14,
     "metadata": {},
     "output_type": "execute_result"
    }
   ],
   "source": [
    "yahoo.head()"
   ]
  },
  {
   "cell_type": "code",
   "execution_count": 15,
   "id": "64c3f616",
   "metadata": {},
   "outputs": [],
   "source": [
    "# Create dataframe prices here\n",
    "prices = pd.DataFrame()"
   ]
  },
  {
   "cell_type": "code",
   "execution_count": 16,
   "id": "d789ce3e",
   "metadata": {},
   "outputs": [
    {
     "name": "stdout",
     "output_type": "stream",
     "text": [
      "     price\n",
      "0    20.08\n",
      "1    19.78\n",
      "2    19.86\n",
      "3    19.40\n",
      "4    19.66\n",
      "..     ...\n",
      "255    NaN\n",
      "256  40.65\n",
      "257  40.49\n",
      "258  40.20\n",
      "259  40.44\n",
      "\n",
      "[260 rows x 1 columns]\n",
      "      2013\n",
      "0    20.08\n",
      "1    19.78\n",
      "2    19.86\n",
      "3    19.40\n",
      "4    19.66\n",
      "..     ...\n",
      "255    NaN\n",
      "256  40.65\n",
      "257  40.49\n",
      "258  40.20\n",
      "259  40.44\n",
      "\n",
      "[260 rows x 1 columns]\n",
      "      2013\n",
      "0    20.08\n",
      "1    19.78\n",
      "2    19.86\n",
      "3    19.40\n",
      "4    19.66\n",
      "..     ...\n",
      "255    NaN\n",
      "256  40.65\n",
      "257  40.49\n",
      "258  40.20\n",
      "259  40.44\n",
      "\n",
      "[260 rows x 1 columns]\n",
      "     price\n",
      "0      NaN\n",
      "1    39.59\n",
      "2    40.12\n",
      "3    39.93\n",
      "4    40.92\n",
      "..     ...\n",
      "256    NaN\n",
      "257  50.86\n",
      "258  50.53\n",
      "259  51.22\n",
      "260  50.51\n",
      "\n",
      "[261 rows x 1 columns]\n",
      "      2014\n",
      "0      NaN\n",
      "1    39.59\n",
      "2    40.12\n",
      "3    39.93\n",
      "4    40.92\n",
      "..     ...\n",
      "256    NaN\n",
      "257  50.86\n",
      "258  50.53\n",
      "259  51.22\n",
      "260  50.51\n",
      "\n",
      "[261 rows x 1 columns]\n",
      "      2013   2014\n",
      "0    20.08    NaN\n",
      "1    19.78  39.59\n",
      "2    19.86  40.12\n",
      "3    19.40  39.93\n",
      "4    19.66  40.92\n",
      "..     ...    ...\n",
      "256  40.65    NaN\n",
      "257  40.49  50.86\n",
      "258  40.20  50.53\n",
      "259  40.44  51.22\n",
      "260    NaN  50.51\n",
      "\n",
      "[261 rows x 2 columns]\n",
      "     price\n",
      "0      NaN\n",
      "1    50.17\n",
      "2    49.13\n",
      "3    49.21\n",
      "4    48.59\n",
      "..     ...\n",
      "256    NaN\n",
      "257  33.60\n",
      "258  34.04\n",
      "259  33.37\n",
      "260  33.26\n",
      "\n",
      "[261 rows x 1 columns]\n",
      "      2015\n",
      "0      NaN\n",
      "1    50.17\n",
      "2    49.13\n",
      "3    49.21\n",
      "4    48.59\n",
      "..     ...\n",
      "256    NaN\n",
      "257  33.60\n",
      "258  34.04\n",
      "259  33.37\n",
      "260  33.26\n",
      "\n",
      "[261 rows x 1 columns]\n",
      "      2013   2014   2015\n",
      "0    20.08    NaN    NaN\n",
      "1    19.78  39.59  50.17\n",
      "2    19.86  40.12  49.13\n",
      "3    19.40  39.93  49.21\n",
      "4    19.66  40.92  48.59\n",
      "..     ...    ...    ...\n",
      "256  40.65    NaN    NaN\n",
      "257  40.49  50.86  33.60\n",
      "258  40.20  50.53  34.04\n",
      "259  40.44  51.22  33.37\n",
      "260    NaN  50.51  33.26\n",
      "\n",
      "[261 rows x 3 columns]\n"
     ]
    }
   ],
   "source": [
    "# Select data for each year and concatenate with prices here \n",
    "for year in ['2013', '2014', '2015']:\n",
    "    price_per_year = yahoo.loc[year, ['price']].reset_index(drop=True)\n",
    "    print(price_per_year)\n",
    "    price_per_year.rename(columns={'price': year}, inplace=True)\n",
    "    print(price_per_year)\n",
    "    prices = pd.concat([prices, price_per_year], axis=1)\n",
    "    print(prices)"
   ]
  },
  {
   "cell_type": "code",
   "execution_count": 17,
   "id": "f9bada2a",
   "metadata": {},
   "outputs": [
    {
     "data": {
      "image/png": "[encoded data removed]",
      "text/plain": [
       "<Figure size 432x288 with 1 Axes>"
      ]
     },
     "metadata": {
      "needs_background": "light"
     },
     "output_type": "display_data"
    }
   ],
   "source": [
    "# Plot prices\n",
    "prices.plot()\n",
    "plt.show()\n"
   ]
  },
  {
   "cell_type": "markdown",
   "id": "c29ef41a",
   "metadata": {},
   "source": [
    "### Set and change time series frequency"
   ]
  },
  {
   "cell_type": "code",
   "execution_count": 18,
   "id": "823ec789",
   "metadata": {},
   "outputs": [
    {
     "data": {
      "text/html": [
       "<div>\n",
       "<style scoped>\n",
       "    .dataframe tbody tr th:only-of-type {\n",
       "        vertical-align: middle;\n",
       "    }\n",
       "\n",
       "    .dataframe tbody tr th {\n",
       "        vertical-align: top;\n",
       "    }\n",
       "\n",
       "    .dataframe thead th {\n",
       "        text-align: right;\n",
       "    }\n",
       "</style>\n",
       "<table border=\"1\" class=\"dataframe\">\n",
       "  <thead>\n",
       "    <tr style=\"text-align: right;\">\n",
       "      <th></th>\n",
       "      <th>date</th>\n",
       "      <th>Chicago</th>\n",
       "      <th>Los Angeles</th>\n",
       "      <th>New York</th>\n",
       "    </tr>\n",
       "  </thead>\n",
       "  <tbody>\n",
       "    <tr>\n",
       "      <th>0</th>\n",
       "      <td>2005-01-01</td>\n",
       "      <td>0.317763</td>\n",
       "      <td>0.777657</td>\n",
       "      <td>0.639830</td>\n",
       "    </tr>\n",
       "    <tr>\n",
       "      <th>1</th>\n",
       "      <td>2005-01-03</td>\n",
       "      <td>0.520833</td>\n",
       "      <td>0.349547</td>\n",
       "      <td>0.969572</td>\n",
       "    </tr>\n",
       "    <tr>\n",
       "      <th>2</th>\n",
       "      <td>2005-01-04</td>\n",
       "      <td>0.477083</td>\n",
       "      <td>0.626630</td>\n",
       "      <td>0.905208</td>\n",
       "    </tr>\n",
       "    <tr>\n",
       "      <th>3</th>\n",
       "      <td>2005-01-05</td>\n",
       "      <td>0.348822</td>\n",
       "      <td>0.613814</td>\n",
       "      <td>0.769176</td>\n",
       "    </tr>\n",
       "    <tr>\n",
       "      <th>4</th>\n",
       "      <td>2005-01-06</td>\n",
       "      <td>0.572917</td>\n",
       "      <td>0.792596</td>\n",
       "      <td>0.815761</td>\n",
       "    </tr>\n",
       "  </tbody>\n",
       "</table>\n",
       "</div>"
      ],
      "text/plain": [
       "         date   Chicago  Los Angeles  New York\n",
       "0  2005-01-01  0.317763     0.777657  0.639830\n",
       "1  2005-01-03  0.520833     0.349547  0.969572\n",
       "2  2005-01-04  0.477083     0.626630  0.905208\n",
       "3  2005-01-05  0.348822     0.613814  0.769176\n",
       "4  2005-01-06  0.572917     0.792596  0.815761"
      ]
     },
     "execution_count": 18,
     "metadata": {},
     "output_type": "execute_result"
    }
   ],
   "source": [
    "co = pd.read_csv(\"air_quality_data/co_cities.csv\")\n",
    "co.head()"
   ]
  },
  {
   "cell_type": "code",
   "execution_count": 19,
   "id": "0f899fc5",
   "metadata": {},
   "outputs": [
    {
     "name": "stdout",
     "output_type": "stream",
     "text": [
      "<class 'pandas.core.frame.DataFrame'>\n",
      "RangeIndex: 1898 entries, 0 to 1897\n",
      "Data columns (total 4 columns):\n",
      " #   Column       Non-Null Count  Dtype  \n",
      "---  ------       --------------  -----  \n",
      " 0   date         1898 non-null   object \n",
      " 1   Chicago      1898 non-null   float64\n",
      " 2   Los Angeles  1898 non-null   float64\n",
      " 3   New York     1898 non-null   float64\n",
      "dtypes: float64(3), object(1)\n",
      "memory usage: 59.4+ KB\n",
      "None\n"
     ]
    }
   ],
   "source": [
    "# Inspect data\n",
    "print(co.info())"
   ]
  },
  {
   "cell_type": "code",
   "execution_count": 20,
   "id": "02e83a4f",
   "metadata": {},
   "outputs": [
    {
     "name": "stdout",
     "output_type": "stream",
     "text": [
      "<class 'pandas.core.frame.DataFrame'>\n",
      "DatetimeIndex: 1898 entries, 2005-01-01 to 2010-12-31\n",
      "Data columns (total 3 columns):\n",
      " #   Column       Non-Null Count  Dtype  \n",
      "---  ------       --------------  -----  \n",
      " 0   Chicago      1898 non-null   float64\n",
      " 1   Los Angeles  1898 non-null   float64\n",
      " 2   New York     1898 non-null   float64\n",
      "dtypes: float64(3)\n",
      "memory usage: 59.3 KB\n",
      "None\n"
     ]
    }
   ],
   "source": [
    "co.date = pd.to_datetime(co.date)\n",
    "co.set_index('date', inplace=True)\n",
    "print(co.info())"
   ]
  },
  {
   "cell_type": "code",
   "execution_count": 21,
   "id": "edb75726",
   "metadata": {},
   "outputs": [
    {
     "data": {
      "text/html": [
       "<div>\n",
       "<style scoped>\n",
       "    .dataframe tbody tr th:only-of-type {\n",
       "        vertical-align: middle;\n",
       "    }\n",
       "\n",
       "    .dataframe tbody tr th {\n",
       "        vertical-align: top;\n",
       "    }\n",
       "\n",
       "    .dataframe thead th {\n",
       "        text-align: right;\n",
       "    }\n",
       "</style>\n",
       "<table border=\"1\" class=\"dataframe\">\n",
       "  <thead>\n",
       "    <tr style=\"text-align: right;\">\n",
       "      <th></th>\n",
       "      <th>Chicago</th>\n",
       "      <th>Los Angeles</th>\n",
       "      <th>New York</th>\n",
       "    </tr>\n",
       "    <tr>\n",
       "      <th>date</th>\n",
       "      <th></th>\n",
       "      <th></th>\n",
       "      <th></th>\n",
       "    </tr>\n",
       "  </thead>\n",
       "  <tbody>\n",
       "    <tr>\n",
       "      <th>2005-01-01</th>\n",
       "      <td>0.317763</td>\n",
       "      <td>0.777657</td>\n",
       "      <td>0.639830</td>\n",
       "    </tr>\n",
       "    <tr>\n",
       "      <th>2005-01-02</th>\n",
       "      <td>NaN</td>\n",
       "      <td>NaN</td>\n",
       "      <td>NaN</td>\n",
       "    </tr>\n",
       "    <tr>\n",
       "      <th>2005-01-03</th>\n",
       "      <td>0.520833</td>\n",
       "      <td>0.349547</td>\n",
       "      <td>0.969572</td>\n",
       "    </tr>\n",
       "    <tr>\n",
       "      <th>2005-01-04</th>\n",
       "      <td>0.477083</td>\n",
       "      <td>0.626630</td>\n",
       "      <td>0.905208</td>\n",
       "    </tr>\n",
       "    <tr>\n",
       "      <th>2005-01-05</th>\n",
       "      <td>0.348822</td>\n",
       "      <td>0.613814</td>\n",
       "      <td>0.769176</td>\n",
       "    </tr>\n",
       "  </tbody>\n",
       "</table>\n",
       "</div>"
      ],
      "text/plain": [
       "             Chicago  Los Angeles  New York\n",
       "date                                       \n",
       "2005-01-01  0.317763     0.777657  0.639830\n",
       "2005-01-02       NaN          NaN       NaN\n",
       "2005-01-03  0.520833     0.349547  0.969572\n",
       "2005-01-04  0.477083     0.626630  0.905208\n",
       "2005-01-05  0.348822     0.613814  0.769176"
      ]
     },
     "execution_count": 21,
     "metadata": {},
     "output_type": "execute_result"
    }
   ],
   "source": [
    "# Set the frequency to calendar daily\n",
    "co = co.asfreq('D')\n",
    "co.head()"
   ]
  },
  {
   "cell_type": "code",
   "execution_count": 22,
   "id": "a5fb51d0",
   "metadata": {},
   "outputs": [
    {
     "data": {
      "image/png": "[encoded data removed]",
      "text/plain": [
       "<Figure size 432x288 with 3 Axes>"
      ]
     },
     "metadata": {
      "needs_background": "light"
     },
     "output_type": "display_data"
    }
   ],
   "source": [
    "# Plot the data\n",
    "co.plot(subplots=True)\n",
    "plt.tight_layout()\n",
    "plt.show()"
   ]
  },
  {
   "cell_type": "code",
   "execution_count": 23,
   "id": "164d77f3",
   "metadata": {},
   "outputs": [
    {
     "data": {
      "image/png": "[encoded data removed]",
      "text/plain": [
       "<Figure size 432x288 with 3 Axes>"
      ]
     },
     "metadata": {
      "needs_background": "light"
     },
     "output_type": "display_data"
    }
   ],
   "source": [
    "# Set frequency to monthly\n",
    "co = co.asfreq('M')\n",
    "\n",
    "# Plot the data\n",
    "co.plot(subplots=True)\n",
    "plt.tight_layout()\n",
    "plt.show()"
   ]
  },
  {
   "cell_type": "markdown",
   "id": "bdb35651",
   "metadata": {},
   "source": [
    "### Shifting stock prices across time"
   ]
  },
  {
   "cell_type": "code",
   "execution_count": 24,
   "id": "51cb1f55",
   "metadata": {},
   "outputs": [
    {
     "data": {
      "text/html": [
       "<div>\n",
       "<style scoped>\n",
       "    .dataframe tbody tr th:only-of-type {\n",
       "        vertical-align: middle;\n",
       "    }\n",
       "\n",
       "    .dataframe tbody tr th {\n",
       "        vertical-align: top;\n",
       "    }\n",
       "\n",
       "    .dataframe thead th {\n",
       "        text-align: right;\n",
       "    }\n",
       "</style>\n",
       "<table border=\"1\" class=\"dataframe\">\n",
       "  <thead>\n",
       "    <tr style=\"text-align: right;\">\n",
       "      <th></th>\n",
       "      <th>Close</th>\n",
       "    </tr>\n",
       "    <tr>\n",
       "      <th>Date</th>\n",
       "      <th></th>\n",
       "    </tr>\n",
       "  </thead>\n",
       "  <tbody>\n",
       "    <tr>\n",
       "      <th>2014-01-02</th>\n",
       "      <td>556.00</td>\n",
       "    </tr>\n",
       "    <tr>\n",
       "      <th>2014-01-03</th>\n",
       "      <td>551.95</td>\n",
       "    </tr>\n",
       "    <tr>\n",
       "      <th>2014-01-06</th>\n",
       "      <td>558.10</td>\n",
       "    </tr>\n",
       "    <tr>\n",
       "      <th>2014-01-07</th>\n",
       "      <td>568.86</td>\n",
       "    </tr>\n",
       "    <tr>\n",
       "      <th>2014-01-08</th>\n",
       "      <td>570.04</td>\n",
       "    </tr>\n",
       "  </tbody>\n",
       "</table>\n",
       "</div>"
      ],
      "text/plain": [
       "             Close\n",
       "Date              \n",
       "2014-01-02  556.00\n",
       "2014-01-03  551.95\n",
       "2014-01-06  558.10\n",
       "2014-01-07  568.86\n",
       "2014-01-08  570.04"
      ]
     },
     "execution_count": 24,
     "metadata": {},
     "output_type": "execute_result"
    }
   ],
   "source": [
    "# Import data here\n",
    "google = pd.read_csv('stock_data/google.csv', parse_dates=['Date'], index_col='Date')\n",
    "\n",
    "# Set data frequency to business daily\n",
    "google = google.asfreq('B')\n",
    "google.head()"
   ]
  },
  {
   "cell_type": "code",
   "execution_count": 25,
   "id": "9a39191b",
   "metadata": {},
   "outputs": [
    {
     "data": {
      "text/html": [
       "<div>\n",
       "<style scoped>\n",
       "    .dataframe tbody tr th:only-of-type {\n",
       "        vertical-align: middle;\n",
       "    }\n",
       "\n",
       "    .dataframe tbody tr th {\n",
       "        vertical-align: top;\n",
       "    }\n",
       "\n",
       "    .dataframe thead th {\n",
       "        text-align: right;\n",
       "    }\n",
       "</style>\n",
       "<table border=\"1\" class=\"dataframe\">\n",
       "  <thead>\n",
       "    <tr style=\"text-align: right;\">\n",
       "      <th></th>\n",
       "      <th>Close</th>\n",
       "      <th>lagged</th>\n",
       "    </tr>\n",
       "    <tr>\n",
       "      <th>Date</th>\n",
       "      <th></th>\n",
       "      <th></th>\n",
       "    </tr>\n",
       "  </thead>\n",
       "  <tbody>\n",
       "    <tr>\n",
       "      <th>2014-01-02</th>\n",
       "      <td>556.00</td>\n",
       "      <td>511.00</td>\n",
       "    </tr>\n",
       "    <tr>\n",
       "      <th>2014-01-03</th>\n",
       "      <td>551.95</td>\n",
       "      <td>518.73</td>\n",
       "    </tr>\n",
       "    <tr>\n",
       "      <th>2014-01-06</th>\n",
       "      <td>558.10</td>\n",
       "      <td>529.92</td>\n",
       "    </tr>\n",
       "    <tr>\n",
       "      <th>2014-01-07</th>\n",
       "      <td>568.86</td>\n",
       "      <td>533.09</td>\n",
       "    </tr>\n",
       "    <tr>\n",
       "      <th>2014-01-08</th>\n",
       "      <td>570.04</td>\n",
       "      <td>526.65</td>\n",
       "    </tr>\n",
       "  </tbody>\n",
       "</table>\n",
       "</div>"
      ],
      "text/plain": [
       "             Close  lagged\n",
       "Date                      \n",
       "2014-01-02  556.00  511.00\n",
       "2014-01-03  551.95  518.73\n",
       "2014-01-06  558.10  529.92\n",
       "2014-01-07  568.86  533.09\n",
       "2014-01-08  570.04  526.65"
      ]
     },
     "execution_count": 25,
     "metadata": {},
     "output_type": "execute_result"
    }
   ],
   "source": [
    "# Create 'lagged' and 'shifted'\n",
    "google['lagged'] = google.Close.shift(periods=-90)\n",
    "google.head()"
   ]
  },
  {
   "cell_type": "code",
   "execution_count": 26,
   "id": "e91d8b2f",
   "metadata": {},
   "outputs": [
    {
     "data": {
      "text/html": [
       "<div>\n",
       "<style scoped>\n",
       "    .dataframe tbody tr th:only-of-type {\n",
       "        vertical-align: middle;\n",
       "    }\n",
       "\n",
       "    .dataframe tbody tr th {\n",
       "        vertical-align: top;\n",
       "    }\n",
       "\n",
       "    .dataframe thead th {\n",
       "        text-align: right;\n",
       "    }\n",
       "</style>\n",
       "<table border=\"1\" class=\"dataframe\">\n",
       "  <thead>\n",
       "    <tr style=\"text-align: right;\">\n",
       "      <th></th>\n",
       "      <th>Close</th>\n",
       "      <th>lagged</th>\n",
       "      <th>shifted</th>\n",
       "    </tr>\n",
       "    <tr>\n",
       "      <th>Date</th>\n",
       "      <th></th>\n",
       "      <th></th>\n",
       "      <th></th>\n",
       "    </tr>\n",
       "  </thead>\n",
       "  <tbody>\n",
       "    <tr>\n",
       "      <th>2014-01-02</th>\n",
       "      <td>556.00</td>\n",
       "      <td>511.00</td>\n",
       "      <td>NaN</td>\n",
       "    </tr>\n",
       "    <tr>\n",
       "      <th>2014-01-03</th>\n",
       "      <td>551.95</td>\n",
       "      <td>518.73</td>\n",
       "      <td>NaN</td>\n",
       "    </tr>\n",
       "    <tr>\n",
       "      <th>2014-01-06</th>\n",
       "      <td>558.10</td>\n",
       "      <td>529.92</td>\n",
       "      <td>NaN</td>\n",
       "    </tr>\n",
       "    <tr>\n",
       "      <th>2014-01-07</th>\n",
       "      <td>568.86</td>\n",
       "      <td>533.09</td>\n",
       "      <td>NaN</td>\n",
       "    </tr>\n",
       "    <tr>\n",
       "      <th>2014-01-08</th>\n",
       "      <td>570.04</td>\n",
       "      <td>526.65</td>\n",
       "      <td>NaN</td>\n",
       "    </tr>\n",
       "  </tbody>\n",
       "</table>\n",
       "</div>"
      ],
      "text/plain": [
       "             Close  lagged  shifted\n",
       "Date                               \n",
       "2014-01-02  556.00  511.00      NaN\n",
       "2014-01-03  551.95  518.73      NaN\n",
       "2014-01-06  558.10  529.92      NaN\n",
       "2014-01-07  568.86  533.09      NaN\n",
       "2014-01-08  570.04  526.65      NaN"
      ]
     },
     "execution_count": 26,
     "metadata": {},
     "output_type": "execute_result"
    }
   ],
   "source": [
    "google['shifted'] = google.Close.shift(periods= 90)\n",
    "google.head()"
   ]
  },
  {
   "cell_type": "code",
   "execution_count": 27,
   "id": "fa5c8e90",
   "metadata": {},
   "outputs": [
    {
     "data": {
      "image/png": "[encoded data removed]",
      "text/plain": [
       "<Figure size 432x288 with 3 Axes>"
      ]
     },
     "metadata": {
      "needs_background": "light"
     },
     "output_type": "display_data"
    }
   ],
   "source": [
    "# Plot the google price series\n",
    "google.plot(subplots=True)\n",
    "plt.tight_layout()\n",
    "plt.show()"
   ]
  },
  {
   "cell_type": "markdown",
   "id": "72ff354d",
   "metadata": {},
   "source": [
    "### Calculating stock price changes"
   ]
  },
  {
   "cell_type": "code",
   "execution_count": 28,
   "id": "eced6725",
   "metadata": {},
   "outputs": [
    {
     "data": {
      "text/html": [
       "<div>\n",
       "<style scoped>\n",
       "    .dataframe tbody tr th:only-of-type {\n",
       "        vertical-align: middle;\n",
       "    }\n",
       "\n",
       "    .dataframe tbody tr th {\n",
       "        vertical-align: top;\n",
       "    }\n",
       "\n",
       "    .dataframe thead th {\n",
       "        text-align: right;\n",
       "    }\n",
       "</style>\n",
       "<table border=\"1\" class=\"dataframe\">\n",
       "  <thead>\n",
       "    <tr style=\"text-align: right;\">\n",
       "      <th></th>\n",
       "      <th>date</th>\n",
       "      <th>price</th>\n",
       "    </tr>\n",
       "  </thead>\n",
       "  <tbody>\n",
       "    <tr>\n",
       "      <th>0</th>\n",
       "      <td>2013-01-02</td>\n",
       "      <td>20.08</td>\n",
       "    </tr>\n",
       "    <tr>\n",
       "      <th>1</th>\n",
       "      <td>2013-01-03</td>\n",
       "      <td>19.78</td>\n",
       "    </tr>\n",
       "    <tr>\n",
       "      <th>2</th>\n",
       "      <td>2013-01-04</td>\n",
       "      <td>19.86</td>\n",
       "    </tr>\n",
       "    <tr>\n",
       "      <th>3</th>\n",
       "      <td>2013-01-07</td>\n",
       "      <td>19.40</td>\n",
       "    </tr>\n",
       "    <tr>\n",
       "      <th>4</th>\n",
       "      <td>2013-01-08</td>\n",
       "      <td>19.66</td>\n",
       "    </tr>\n",
       "  </tbody>\n",
       "</table>\n",
       "</div>"
      ],
      "text/plain": [
       "         date  price\n",
       "0  2013-01-02  20.08\n",
       "1  2013-01-03  19.78\n",
       "2  2013-01-04  19.86\n",
       "3  2013-01-07  19.40\n",
       "4  2013-01-08  19.66"
      ]
     },
     "execution_count": 28,
     "metadata": {},
     "output_type": "execute_result"
    }
   ],
   "source": [
    "yahoo = pd.read_csv(\"stock_data/yahoo.csv\")\n",
    "yahoo.head()"
   ]
  },
  {
   "cell_type": "code",
   "execution_count": 29,
   "id": "cb2445db",
   "metadata": {},
   "outputs": [
    {
     "name": "stdout",
     "output_type": "stream",
     "text": [
      "<class 'pandas.core.frame.DataFrame'>\n",
      "DatetimeIndex: 782 entries, 2013-01-02 to 2015-12-31\n",
      "Data columns (total 1 columns):\n",
      " #   Column  Non-Null Count  Dtype  \n",
      "---  ------  --------------  -----  \n",
      " 0   price   756 non-null    float64\n",
      "dtypes: float64(1)\n",
      "memory usage: 12.2 KB\n",
      "None\n"
     ]
    }
   ],
   "source": [
    "yahoo.date = pd.to_datetime(yahoo.date)\n",
    "yahoo.set_index('date', inplace=True)\n",
    "print(yahoo.info())"
   ]
  },
  {
   "cell_type": "code",
   "execution_count": 30,
   "id": "3a0780fb",
   "metadata": {},
   "outputs": [
    {
     "data": {
      "text/html": [
       "<div>\n",
       "<style scoped>\n",
       "    .dataframe tbody tr th:only-of-type {\n",
       "        vertical-align: middle;\n",
       "    }\n",
       "\n",
       "    .dataframe tbody tr th {\n",
       "        vertical-align: top;\n",
       "    }\n",
       "\n",
       "    .dataframe thead th {\n",
       "        text-align: right;\n",
       "    }\n",
       "</style>\n",
       "<table border=\"1\" class=\"dataframe\">\n",
       "  <thead>\n",
       "    <tr style=\"text-align: right;\">\n",
       "      <th></th>\n",
       "      <th>price</th>\n",
       "    </tr>\n",
       "    <tr>\n",
       "      <th>date</th>\n",
       "      <th></th>\n",
       "    </tr>\n",
       "  </thead>\n",
       "  <tbody>\n",
       "    <tr>\n",
       "      <th>2015-12-25</th>\n",
       "      <td>NaN</td>\n",
       "    </tr>\n",
       "    <tr>\n",
       "      <th>2015-12-28</th>\n",
       "      <td>33.60</td>\n",
       "    </tr>\n",
       "    <tr>\n",
       "      <th>2015-12-29</th>\n",
       "      <td>34.04</td>\n",
       "    </tr>\n",
       "    <tr>\n",
       "      <th>2015-12-30</th>\n",
       "      <td>33.37</td>\n",
       "    </tr>\n",
       "    <tr>\n",
       "      <th>2015-12-31</th>\n",
       "      <td>33.26</td>\n",
       "    </tr>\n",
       "  </tbody>\n",
       "</table>\n",
       "</div>"
      ],
      "text/plain": [
       "            price\n",
       "date             \n",
       "2015-12-25    NaN\n",
       "2015-12-28  33.60\n",
       "2015-12-29  34.04\n",
       "2015-12-30  33.37\n",
       "2015-12-31  33.26"
      ]
     },
     "execution_count": 30,
     "metadata": {},
     "output_type": "execute_result"
    }
   ],
   "source": [
    "yahoo.tail()"
   ]
  },
  {
   "cell_type": "code",
   "execution_count": 31,
   "id": "945b3867",
   "metadata": {},
   "outputs": [
    {
     "data": {
      "text/html": [
       "<div>\n",
       "<style scoped>\n",
       "    .dataframe tbody tr th:only-of-type {\n",
       "        vertical-align: middle;\n",
       "    }\n",
       "\n",
       "    .dataframe tbody tr th {\n",
       "        vertical-align: top;\n",
       "    }\n",
       "\n",
       "    .dataframe thead th {\n",
       "        text-align: right;\n",
       "    }\n",
       "</style>\n",
       "<table border=\"1\" class=\"dataframe\">\n",
       "  <thead>\n",
       "    <tr style=\"text-align: right;\">\n",
       "      <th></th>\n",
       "      <th>price</th>\n",
       "      <th>shifted_30</th>\n",
       "    </tr>\n",
       "    <tr>\n",
       "      <th>date</th>\n",
       "      <th></th>\n",
       "      <th></th>\n",
       "    </tr>\n",
       "  </thead>\n",
       "  <tbody>\n",
       "    <tr>\n",
       "      <th>2015-12-25</th>\n",
       "      <td>NaN</td>\n",
       "      <td>32.19</td>\n",
       "    </tr>\n",
       "    <tr>\n",
       "      <th>2015-12-28</th>\n",
       "      <td>33.60</td>\n",
       "      <td>32.94</td>\n",
       "    </tr>\n",
       "    <tr>\n",
       "      <th>2015-12-29</th>\n",
       "      <td>34.04</td>\n",
       "      <td>32.86</td>\n",
       "    </tr>\n",
       "    <tr>\n",
       "      <th>2015-12-30</th>\n",
       "      <td>33.37</td>\n",
       "      <td>32.98</td>\n",
       "    </tr>\n",
       "    <tr>\n",
       "      <th>2015-12-31</th>\n",
       "      <td>33.26</td>\n",
       "      <td>32.62</td>\n",
       "    </tr>\n",
       "  </tbody>\n",
       "</table>\n",
       "</div>"
      ],
      "text/plain": [
       "            price  shifted_30\n",
       "date                         \n",
       "2015-12-25    NaN       32.19\n",
       "2015-12-28  33.60       32.94\n",
       "2015-12-29  34.04       32.86\n",
       "2015-12-30  33.37       32.98\n",
       "2015-12-31  33.26       32.62"
      ]
     },
     "execution_count": 31,
     "metadata": {},
     "output_type": "execute_result"
    }
   ],
   "source": [
    "# Created shifted_30 here\n",
    "yahoo['shifted_30'] = yahoo.price.shift(periods=30)\n",
    "yahoo.tail()"
   ]
  },
  {
   "cell_type": "code",
   "execution_count": 32,
   "id": "cc1c89e5",
   "metadata": {},
   "outputs": [
    {
     "data": {
      "text/html": [
       "<div>\n",
       "<style scoped>\n",
       "    .dataframe tbody tr th:only-of-type {\n",
       "        vertical-align: middle;\n",
       "    }\n",
       "\n",
       "    .dataframe tbody tr th {\n",
       "        vertical-align: top;\n",
       "    }\n",
       "\n",
       "    .dataframe thead th {\n",
       "        text-align: right;\n",
       "    }\n",
       "</style>\n",
       "<table border=\"1\" class=\"dataframe\">\n",
       "  <thead>\n",
       "    <tr style=\"text-align: right;\">\n",
       "      <th></th>\n",
       "      <th>price</th>\n",
       "      <th>shifted_30</th>\n",
       "      <th>change_30</th>\n",
       "    </tr>\n",
       "    <tr>\n",
       "      <th>date</th>\n",
       "      <th></th>\n",
       "      <th></th>\n",
       "      <th></th>\n",
       "    </tr>\n",
       "  </thead>\n",
       "  <tbody>\n",
       "    <tr>\n",
       "      <th>2015-12-25</th>\n",
       "      <td>NaN</td>\n",
       "      <td>32.19</td>\n",
       "      <td>NaN</td>\n",
       "    </tr>\n",
       "    <tr>\n",
       "      <th>2015-12-28</th>\n",
       "      <td>33.60</td>\n",
       "      <td>32.94</td>\n",
       "      <td>0.66</td>\n",
       "    </tr>\n",
       "    <tr>\n",
       "      <th>2015-12-29</th>\n",
       "      <td>34.04</td>\n",
       "      <td>32.86</td>\n",
       "      <td>1.18</td>\n",
       "    </tr>\n",
       "    <tr>\n",
       "      <th>2015-12-30</th>\n",
       "      <td>33.37</td>\n",
       "      <td>32.98</td>\n",
       "      <td>0.39</td>\n",
       "    </tr>\n",
       "    <tr>\n",
       "      <th>2015-12-31</th>\n",
       "      <td>33.26</td>\n",
       "      <td>32.62</td>\n",
       "      <td>0.64</td>\n",
       "    </tr>\n",
       "  </tbody>\n",
       "</table>\n",
       "</div>"
      ],
      "text/plain": [
       "            price  shifted_30  change_30\n",
       "date                                    \n",
       "2015-12-25    NaN       32.19        NaN\n",
       "2015-12-28  33.60       32.94       0.66\n",
       "2015-12-29  34.04       32.86       1.18\n",
       "2015-12-30  33.37       32.98       0.39\n",
       "2015-12-31  33.26       32.62       0.64"
      ]
     },
     "execution_count": 32,
     "metadata": {},
     "output_type": "execute_result"
    }
   ],
   "source": [
    "# Subtract shifted_30 from price\n",
    "yahoo['change_30'] =  yahoo.price.sub(yahoo['shifted_30'])  \n",
    "yahoo.tail()"
   ]
  },
  {
   "cell_type": "code",
   "execution_count": 33,
   "id": "51e0f734",
   "metadata": {},
   "outputs": [
    {
     "name": "stdout",
     "output_type": "stream",
     "text": [
      "            price  shifted_30  change_30  diff_30\n",
      "date                                             \n",
      "2015-12-25    NaN       32.19        NaN      NaN\n",
      "2015-12-28  33.60       32.94       0.66     0.66\n",
      "2015-12-29  34.04       32.86       1.18     1.18\n",
      "2015-12-30  33.37       32.98       0.39     0.39\n",
      "2015-12-31  33.26       32.62       0.64     0.64\n"
     ]
    }
   ],
   "source": [
    "# Get the 30-day price difference\n",
    "yahoo['diff_30'] = yahoo.price.diff(30)\n",
    "\n",
    "# Inspect the last five rows of price\n",
    "print(yahoo.tail())"
   ]
  },
  {
   "cell_type": "code",
   "execution_count": 34,
   "id": "da0566c3",
   "metadata": {},
   "outputs": [
    {
     "name": "stdout",
     "output_type": "stream",
     "text": [
      "0.0    703\n",
      "dtype: int64\n"
     ]
    }
   ],
   "source": [
    "# Show the value_counts of the difference between change_30 and diff_30\n",
    "print(yahoo.change_30.sub(yahoo.diff_30).value_counts())\n",
    "# There are 703 differences of 0.0"
   ]
  },
  {
   "cell_type": "markdown",
   "id": "293b846e",
   "metadata": {},
   "source": [
    "### Plotting multi-period returns"
   ]
  },
  {
   "cell_type": "code",
   "execution_count": 35,
   "id": "b0df1c22",
   "metadata": {},
   "outputs": [
    {
     "data": {
      "text/html": [
       "<div>\n",
       "<style scoped>\n",
       "    .dataframe tbody tr th:only-of-type {\n",
       "        vertical-align: middle;\n",
       "    }\n",
       "\n",
       "    .dataframe tbody tr th {\n",
       "        vertical-align: top;\n",
       "    }\n",
       "\n",
       "    .dataframe thead th {\n",
       "        text-align: right;\n",
       "    }\n",
       "</style>\n",
       "<table border=\"1\" class=\"dataframe\">\n",
       "  <thead>\n",
       "    <tr style=\"text-align: right;\">\n",
       "      <th></th>\n",
       "      <th>Date</th>\n",
       "      <th>Close</th>\n",
       "    </tr>\n",
       "  </thead>\n",
       "  <tbody>\n",
       "    <tr>\n",
       "      <th>0</th>\n",
       "      <td>2014-01-02</td>\n",
       "      <td>556.00</td>\n",
       "    </tr>\n",
       "    <tr>\n",
       "      <th>1</th>\n",
       "      <td>2014-01-03</td>\n",
       "      <td>551.95</td>\n",
       "    </tr>\n",
       "    <tr>\n",
       "      <th>2</th>\n",
       "      <td>2014-01-04</td>\n",
       "      <td>NaN</td>\n",
       "    </tr>\n",
       "    <tr>\n",
       "      <th>3</th>\n",
       "      <td>2014-01-05</td>\n",
       "      <td>NaN</td>\n",
       "    </tr>\n",
       "    <tr>\n",
       "      <th>4</th>\n",
       "      <td>2014-01-06</td>\n",
       "      <td>558.10</td>\n",
       "    </tr>\n",
       "  </tbody>\n",
       "</table>\n",
       "</div>"
      ],
      "text/plain": [
       "         Date   Close\n",
       "0  2014-01-02  556.00\n",
       "1  2014-01-03  551.95\n",
       "2  2014-01-04     NaN\n",
       "3  2014-01-05     NaN\n",
       "4  2014-01-06  558.10"
      ]
     },
     "execution_count": 35,
     "metadata": {},
     "output_type": "execute_result"
    }
   ],
   "source": [
    "google = pd.read_csv(\"stock_data/google.csv\")\n",
    "google.head()"
   ]
  },
  {
   "cell_type": "code",
   "execution_count": 36,
   "id": "94c6bca8",
   "metadata": {},
   "outputs": [
    {
     "name": "stdout",
     "output_type": "stream",
     "text": [
      "<class 'pandas.core.frame.DataFrame'>\n",
      "DatetimeIndex: 1094 entries, 2014-01-02 to 2016-12-30\n",
      "Data columns (total 1 columns):\n",
      " #   Column  Non-Null Count  Dtype  \n",
      "---  ------  --------------  -----  \n",
      " 0   Close   756 non-null    float64\n",
      "dtypes: float64(1)\n",
      "memory usage: 17.1 KB\n",
      "None\n"
     ]
    }
   ],
   "source": [
    "google.Date = pd.to_datetime(google.Date)\n",
    "google.set_index('Date', inplace=True)\n",
    "print(google.info())"
   ]
  },
  {
   "cell_type": "code",
   "execution_count": 37,
   "id": "91bb852d",
   "metadata": {},
   "outputs": [],
   "source": [
    "google = google.asfreq('D')"
   ]
  },
  {
   "cell_type": "code",
   "execution_count": 38,
   "id": "09b4958f",
   "metadata": {},
   "outputs": [
    {
     "data": {
      "image/png": "[encoded data removed]",
      "text/plain": [
       "<Figure size 432x288 with 4 Axes>"
      ]
     },
     "metadata": {
      "needs_background": "light"
     },
     "output_type": "display_data"
    }
   ],
   "source": [
    "# Create daily_return\n",
    "google['daily_return'] = google.Close.pct_change(periods=1).mul(100)\n",
    "\n",
    "# Create monthly_return\n",
    "google['monthly_return'] = google.Close.pct_change(periods=30).mul(100)\n",
    "\n",
    "# Create annual_return\n",
    "google['annual_return'] = google.Close.pct_change(periods=360).mul(100)\n",
    "\n",
    "# Plot the result\n",
    "google.plot(subplots=True)\n",
    "plt.show()"
   ]
  },
  {
   "cell_type": "markdown",
   "id": "d8370be1",
   "metadata": {},
   "source": [
    "# 2 Basic Times Series Metrics & Resampling"
   ]
  },
  {
   "cell_type": "markdown",
   "id": "c1c27160",
   "metadata": {},
   "source": [
    "### Compare the performance of several asset classes"
   ]
  },
  {
   "cell_type": "code",
   "execution_count": 39,
   "id": "1652c019",
   "metadata": {},
   "outputs": [
    {
     "data": {
      "text/html": [
       "<div>\n",
       "<style scoped>\n",
       "    .dataframe tbody tr th:only-of-type {\n",
       "        vertical-align: middle;\n",
       "    }\n",
       "\n",
       "    .dataframe tbody tr th {\n",
       "        vertical-align: top;\n",
       "    }\n",
       "\n",
       "    .dataframe thead th {\n",
       "        text-align: right;\n",
       "    }\n",
       "</style>\n",
       "<table border=\"1\" class=\"dataframe\">\n",
       "  <thead>\n",
       "    <tr style=\"text-align: right;\">\n",
       "      <th></th>\n",
       "      <th>SP500</th>\n",
       "      <th>Bonds</th>\n",
       "      <th>Gold</th>\n",
       "      <th>Oil</th>\n",
       "    </tr>\n",
       "    <tr>\n",
       "      <th>DATE</th>\n",
       "      <th></th>\n",
       "      <th></th>\n",
       "      <th></th>\n",
       "      <th></th>\n",
       "    </tr>\n",
       "  </thead>\n",
       "  <tbody>\n",
       "    <tr>\n",
       "      <th>2007-06-29</th>\n",
       "      <td>1503.35</td>\n",
       "      <td>402.15</td>\n",
       "      <td>648.50</td>\n",
       "      <td>70.47</td>\n",
       "    </tr>\n",
       "    <tr>\n",
       "      <th>2007-07-02</th>\n",
       "      <td>1519.43</td>\n",
       "      <td>402.96</td>\n",
       "      <td>650.50</td>\n",
       "      <td>71.11</td>\n",
       "    </tr>\n",
       "    <tr>\n",
       "      <th>2007-07-03</th>\n",
       "      <td>1524.87</td>\n",
       "      <td>402.02</td>\n",
       "      <td>657.25</td>\n",
       "      <td>71.41</td>\n",
       "    </tr>\n",
       "    <tr>\n",
       "      <th>2007-07-05</th>\n",
       "      <td>1525.40</td>\n",
       "      <td>400.15</td>\n",
       "      <td>655.90</td>\n",
       "      <td>71.81</td>\n",
       "    </tr>\n",
       "    <tr>\n",
       "      <th>2007-07-06</th>\n",
       "      <td>1530.44</td>\n",
       "      <td>399.31</td>\n",
       "      <td>647.75</td>\n",
       "      <td>72.80</td>\n",
       "    </tr>\n",
       "  </tbody>\n",
       "</table>\n",
       "</div>"
      ],
      "text/plain": [
       "              SP500   Bonds    Gold    Oil\n",
       "DATE                                      \n",
       "2007-06-29  1503.35  402.15  648.50  70.47\n",
       "2007-07-02  1519.43  402.96  650.50  71.11\n",
       "2007-07-03  1524.87  402.02  657.25  71.41\n",
       "2007-07-05  1525.40  400.15  655.90  71.81\n",
       "2007-07-06  1530.44  399.31  647.75  72.80"
      ]
     },
     "execution_count": 39,
     "metadata": {},
     "output_type": "execute_result"
    }
   ],
   "source": [
    "# Import data here\n",
    "# Instead of using to_datetime and set_index, you can parse_dates  \n",
    "# and index_col simultaenously when reading the csv file. \n",
    "prices = pd.read_csv('stock_data/asset_classes.csv', parse_dates=['DATE'], index_col='DATE')\n",
    "\n",
    "prices.head()"
   ]
  },
  {
   "cell_type": "code",
   "execution_count": 40,
   "id": "3b9e3349",
   "metadata": {},
   "outputs": [
    {
     "name": "stdout",
     "output_type": "stream",
     "text": [
      "<class 'pandas.core.frame.DataFrame'>\n",
      "DatetimeIndex: 2469 entries, 2007-06-29 to 2017-06-26\n",
      "Data columns (total 4 columns):\n",
      " #   Column  Non-Null Count  Dtype  \n",
      "---  ------  --------------  -----  \n",
      " 0   SP500   2469 non-null   float64\n",
      " 1   Bonds   2469 non-null   float64\n",
      " 2   Gold    2469 non-null   float64\n",
      " 3   Oil     2469 non-null   float64\n",
      "dtypes: float64(4)\n",
      "memory usage: 96.4 KB\n",
      "None\n"
     ]
    }
   ],
   "source": [
    "# Inspect prices here\n",
    "print(prices.info())"
   ]
  },
  {
   "cell_type": "code",
   "execution_count": 41,
   "id": "e7ba5eba",
   "metadata": {},
   "outputs": [
    {
     "data": {
      "text/plain": [
       "SP500    1503.35\n",
       "Bonds     402.15\n",
       "Gold      648.50\n",
       "Oil        70.47\n",
       "Name: 2007-06-29 00:00:00, dtype: float64"
      ]
     },
     "execution_count": 41,
     "metadata": {},
     "output_type": "execute_result"
    }
   ],
   "source": [
    "# Select first prices\n",
    "first_prices = prices.iloc[0]\n",
    "first_prices"
   ]
  },
  {
   "cell_type": "code",
   "execution_count": 42,
   "id": "e604b860",
   "metadata": {},
   "outputs": [
    {
     "data": {
      "text/html": [
       "<div>\n",
       "<style scoped>\n",
       "    .dataframe tbody tr th:only-of-type {\n",
       "        vertical-align: middle;\n",
       "    }\n",
       "\n",
       "    .dataframe tbody tr th {\n",
       "        vertical-align: top;\n",
       "    }\n",
       "\n",
       "    .dataframe thead th {\n",
       "        text-align: right;\n",
       "    }\n",
       "</style>\n",
       "<table border=\"1\" class=\"dataframe\">\n",
       "  <thead>\n",
       "    <tr style=\"text-align: right;\">\n",
       "      <th></th>\n",
       "      <th>SP500</th>\n",
       "      <th>Bonds</th>\n",
       "      <th>Gold</th>\n",
       "      <th>Oil</th>\n",
       "    </tr>\n",
       "    <tr>\n",
       "      <th>DATE</th>\n",
       "      <th></th>\n",
       "      <th></th>\n",
       "      <th></th>\n",
       "      <th></th>\n",
       "    </tr>\n",
       "  </thead>\n",
       "  <tbody>\n",
       "    <tr>\n",
       "      <th>2007-06-29</th>\n",
       "      <td>100.000000</td>\n",
       "      <td>100.000000</td>\n",
       "      <td>100.000000</td>\n",
       "      <td>100.000000</td>\n",
       "    </tr>\n",
       "    <tr>\n",
       "      <th>2007-07-02</th>\n",
       "      <td>101.069611</td>\n",
       "      <td>100.201417</td>\n",
       "      <td>100.308404</td>\n",
       "      <td>100.908188</td>\n",
       "    </tr>\n",
       "    <tr>\n",
       "      <th>2007-07-03</th>\n",
       "      <td>101.431470</td>\n",
       "      <td>99.967674</td>\n",
       "      <td>101.349268</td>\n",
       "      <td>101.333901</td>\n",
       "    </tr>\n",
       "    <tr>\n",
       "      <th>2007-07-05</th>\n",
       "      <td>101.466724</td>\n",
       "      <td>99.502673</td>\n",
       "      <td>101.141095</td>\n",
       "      <td>101.901518</td>\n",
       "    </tr>\n",
       "    <tr>\n",
       "      <th>2007-07-06</th>\n",
       "      <td>101.801976</td>\n",
       "      <td>99.293796</td>\n",
       "      <td>99.884348</td>\n",
       "      <td>103.306372</td>\n",
       "    </tr>\n",
       "    <tr>\n",
       "      <th>...</th>\n",
       "      <td>...</td>\n",
       "      <td>...</td>\n",
       "      <td>...</td>\n",
       "      <td>...</td>\n",
       "    </tr>\n",
       "    <tr>\n",
       "      <th>2017-06-20</th>\n",
       "      <td>162.106629</td>\n",
       "      <td>154.628870</td>\n",
       "      <td>192.212799</td>\n",
       "      <td>61.501348</td>\n",
       "    </tr>\n",
       "    <tr>\n",
       "      <th>2017-06-21</th>\n",
       "      <td>162.012173</td>\n",
       "      <td>154.902400</td>\n",
       "      <td>192.297610</td>\n",
       "      <td>60.280971</td>\n",
       "    </tr>\n",
       "    <tr>\n",
       "      <th>2017-06-22</th>\n",
       "      <td>161.938338</td>\n",
       "      <td>154.899913</td>\n",
       "      <td>192.968389</td>\n",
       "      <td>60.351923</td>\n",
       "    </tr>\n",
       "    <tr>\n",
       "      <th>2017-06-23</th>\n",
       "      <td>162.191107</td>\n",
       "      <td>155.059058</td>\n",
       "      <td>193.723978</td>\n",
       "      <td>60.820207</td>\n",
       "    </tr>\n",
       "    <tr>\n",
       "      <th>2017-06-26</th>\n",
       "      <td>162.242325</td>\n",
       "      <td>155.414646</td>\n",
       "      <td>191.341557</td>\n",
       "      <td>61.359444</td>\n",
       "    </tr>\n",
       "  </tbody>\n",
       "</table>\n",
       "<p>2469 rows × 4 columns</p>\n",
       "</div>"
      ],
      "text/plain": [
       "                 SP500       Bonds        Gold         Oil\n",
       "DATE                                                      \n",
       "2007-06-29  100.000000  100.000000  100.000000  100.000000\n",
       "2007-07-02  101.069611  100.201417  100.308404  100.908188\n",
       "2007-07-03  101.431470   99.967674  101.349268  101.333901\n",
       "2007-07-05  101.466724   99.502673  101.141095  101.901518\n",
       "2007-07-06  101.801976   99.293796   99.884348  103.306372\n",
       "...                ...         ...         ...         ...\n",
       "2017-06-20  162.106629  154.628870  192.212799   61.501348\n",
       "2017-06-21  162.012173  154.902400  192.297610   60.280971\n",
       "2017-06-22  161.938338  154.899913  192.968389   60.351923\n",
       "2017-06-23  162.191107  155.059058  193.723978   60.820207\n",
       "2017-06-26  162.242325  155.414646  191.341557   61.359444\n",
       "\n",
       "[2469 rows x 4 columns]"
      ]
     },
     "execution_count": 42,
     "metadata": {},
     "output_type": "execute_result"
    }
   ],
   "source": [
    "# Create normalized\n",
    "normalized = prices.div(first_prices).mul(100)\n",
    "normalized"
   ]
  },
  {
   "cell_type": "code",
   "execution_count": 43,
   "id": "550f92ef",
   "metadata": {},
   "outputs": [
    {
     "data": {
      "image/png": "[encoded data removed]",
      "text/plain": [
       "<Figure size 432x288 with 1 Axes>"
      ]
     },
     "metadata": {
      "needs_background": "light"
     },
     "output_type": "display_data"
    }
   ],
   "source": [
    "# Plot normalized\n",
    "normalized.plot()\n",
    "plt.show()"
   ]
  },
  {
   "cell_type": "markdown",
   "id": "236eff7f",
   "metadata": {},
   "source": [
    "### Comparing stock prices with a benchmark"
   ]
  },
  {
   "cell_type": "code",
   "execution_count": 51,
   "id": "970df313",
   "metadata": {},
   "outputs": [
    {
     "data": {
      "text/html": [
       "<div>\n",
       "<style scoped>\n",
       "    .dataframe tbody tr th:only-of-type {\n",
       "        vertical-align: middle;\n",
       "    }\n",
       "\n",
       "    .dataframe tbody tr th {\n",
       "        vertical-align: top;\n",
       "    }\n",
       "\n",
       "    .dataframe thead th {\n",
       "        text-align: right;\n",
       "    }\n",
       "</style>\n",
       "<table border=\"1\" class=\"dataframe\">\n",
       "  <thead>\n",
       "    <tr style=\"text-align: right;\">\n",
       "      <th></th>\n",
       "      <th>JNJ</th>\n",
       "      <th>JPM</th>\n",
       "      <th>XOM</th>\n",
       "    </tr>\n",
       "    <tr>\n",
       "      <th>date</th>\n",
       "      <th></th>\n",
       "      <th></th>\n",
       "      <th></th>\n",
       "    </tr>\n",
       "  </thead>\n",
       "  <tbody>\n",
       "    <tr>\n",
       "      <th>2010-01-04</th>\n",
       "      <td>64.68</td>\n",
       "      <td>42.85</td>\n",
       "      <td>69.15</td>\n",
       "    </tr>\n",
       "    <tr>\n",
       "      <th>2010-01-05</th>\n",
       "      <td>63.93</td>\n",
       "      <td>43.68</td>\n",
       "      <td>69.42</td>\n",
       "    </tr>\n",
       "    <tr>\n",
       "      <th>2010-01-06</th>\n",
       "      <td>64.45</td>\n",
       "      <td>43.92</td>\n",
       "      <td>70.02</td>\n",
       "    </tr>\n",
       "    <tr>\n",
       "      <th>2010-01-07</th>\n",
       "      <td>63.99</td>\n",
       "      <td>44.79</td>\n",
       "      <td>69.80</td>\n",
       "    </tr>\n",
       "    <tr>\n",
       "      <th>2010-01-08</th>\n",
       "      <td>64.21</td>\n",
       "      <td>44.68</td>\n",
       "      <td>69.52</td>\n",
       "    </tr>\n",
       "  </tbody>\n",
       "</table>\n",
       "</div>"
      ],
      "text/plain": [
       "              JNJ    JPM    XOM\n",
       "date                           \n",
       "2010-01-04  64.68  42.85  69.15\n",
       "2010-01-05  63.93  43.68  69.42\n",
       "2010-01-06  64.45  43.92  70.02\n",
       "2010-01-07  63.99  44.79  69.80\n",
       "2010-01-08  64.21  44.68  69.52"
      ]
     },
     "execution_count": 51,
     "metadata": {},
     "output_type": "execute_result"
    }
   ],
   "source": [
    "# Import stock prices\n",
    "stocks = pd.read_csv('stock_data/nyse.csv', parse_dates=[\"date\"], index_col=\"date\")\n",
    "stocks.head()"
   ]
  },
  {
   "cell_type": "code",
   "execution_count": 52,
   "id": "e103a78f",
   "metadata": {},
   "outputs": [
    {
     "data": {
      "text/html": [
       "<div>\n",
       "<style scoped>\n",
       "    .dataframe tbody tr th:only-of-type {\n",
       "        vertical-align: middle;\n",
       "    }\n",
       "\n",
       "    .dataframe tbody tr th {\n",
       "        vertical-align: top;\n",
       "    }\n",
       "\n",
       "    .dataframe thead th {\n",
       "        text-align: right;\n",
       "    }\n",
       "</style>\n",
       "<table border=\"1\" class=\"dataframe\">\n",
       "  <thead>\n",
       "    <tr style=\"text-align: right;\">\n",
       "      <th></th>\n",
       "      <th>DJIA</th>\n",
       "    </tr>\n",
       "    <tr>\n",
       "      <th>date</th>\n",
       "      <th></th>\n",
       "    </tr>\n",
       "  </thead>\n",
       "  <tbody>\n",
       "    <tr>\n",
       "      <th>2010-01-04</th>\n",
       "      <td>10583.96</td>\n",
       "    </tr>\n",
       "    <tr>\n",
       "      <th>2010-01-05</th>\n",
       "      <td>10572.02</td>\n",
       "    </tr>\n",
       "    <tr>\n",
       "      <th>2010-01-06</th>\n",
       "      <td>10573.68</td>\n",
       "    </tr>\n",
       "    <tr>\n",
       "      <th>2010-01-07</th>\n",
       "      <td>10606.86</td>\n",
       "    </tr>\n",
       "    <tr>\n",
       "      <th>2010-01-08</th>\n",
       "      <td>10618.19</td>\n",
       "    </tr>\n",
       "  </tbody>\n",
       "</table>\n",
       "</div>"
      ],
      "text/plain": [
       "                DJIA\n",
       "date                \n",
       "2010-01-04  10583.96\n",
       "2010-01-05  10572.02\n",
       "2010-01-06  10573.68\n",
       "2010-01-07  10606.86\n",
       "2010-01-08  10618.19"
      ]
     },
     "execution_count": 52,
     "metadata": {},
     "output_type": "execute_result"
    }
   ],
   "source": [
    "# import index\n",
    "dow_jones = pd.read_csv('stock_data/dow_jones.csv', parse_dates=[\"date\"], index_col=\"date\")\n",
    "dow_jones.head()"
   ]
  },
  {
   "cell_type": "code",
   "execution_count": 53,
   "id": "fa24a70b",
   "metadata": {},
   "outputs": [
    {
     "name": "stdout",
     "output_type": "stream",
     "text": [
      "<class 'pandas.core.frame.DataFrame'>\n",
      "DatetimeIndex: 1762 entries, 2010-01-04 to 2016-12-30\n",
      "Data columns (total 4 columns):\n",
      " #   Column  Non-Null Count  Dtype  \n",
      "---  ------  --------------  -----  \n",
      " 0   JNJ     1762 non-null   float64\n",
      " 1   JPM     1762 non-null   float64\n",
      " 2   XOM     1762 non-null   float64\n",
      " 3   DJIA    1762 non-null   float64\n",
      "dtypes: float64(4)\n",
      "memory usage: 68.8 KB\n",
      "None\n"
     ]
    }
   ],
   "source": [
    "# Concatenate data and inspect result here\n",
    "data = pd.concat([stocks, dow_jones], axis=1)\n",
    "print(data.info())"
   ]
  },
  {
   "cell_type": "code",
   "execution_count": 54,
   "id": "d46032cb",
   "metadata": {},
   "outputs": [
    {
     "data": {
      "text/html": [
       "<div>\n",
       "<style scoped>\n",
       "    .dataframe tbody tr th:only-of-type {\n",
       "        vertical-align: middle;\n",
       "    }\n",
       "\n",
       "    .dataframe tbody tr th {\n",
       "        vertical-align: top;\n",
       "    }\n",
       "\n",
       "    .dataframe thead th {\n",
       "        text-align: right;\n",
       "    }\n",
       "</style>\n",
       "<table border=\"1\" class=\"dataframe\">\n",
       "  <thead>\n",
       "    <tr style=\"text-align: right;\">\n",
       "      <th></th>\n",
       "      <th>JNJ</th>\n",
       "      <th>JPM</th>\n",
       "      <th>XOM</th>\n",
       "      <th>DJIA</th>\n",
       "    </tr>\n",
       "    <tr>\n",
       "      <th>date</th>\n",
       "      <th></th>\n",
       "      <th></th>\n",
       "      <th></th>\n",
       "      <th></th>\n",
       "    </tr>\n",
       "  </thead>\n",
       "  <tbody>\n",
       "    <tr>\n",
       "      <th>2010-01-04</th>\n",
       "      <td>64.68</td>\n",
       "      <td>42.85</td>\n",
       "      <td>69.15</td>\n",
       "      <td>10583.96</td>\n",
       "    </tr>\n",
       "    <tr>\n",
       "      <th>2010-01-05</th>\n",
       "      <td>63.93</td>\n",
       "      <td>43.68</td>\n",
       "      <td>69.42</td>\n",
       "      <td>10572.02</td>\n",
       "    </tr>\n",
       "    <tr>\n",
       "      <th>2010-01-06</th>\n",
       "      <td>64.45</td>\n",
       "      <td>43.92</td>\n",
       "      <td>70.02</td>\n",
       "      <td>10573.68</td>\n",
       "    </tr>\n",
       "    <tr>\n",
       "      <th>2010-01-07</th>\n",
       "      <td>63.99</td>\n",
       "      <td>44.79</td>\n",
       "      <td>69.80</td>\n",
       "      <td>10606.86</td>\n",
       "    </tr>\n",
       "    <tr>\n",
       "      <th>2010-01-08</th>\n",
       "      <td>64.21</td>\n",
       "      <td>44.68</td>\n",
       "      <td>69.52</td>\n",
       "      <td>10618.19</td>\n",
       "    </tr>\n",
       "  </tbody>\n",
       "</table>\n",
       "</div>"
      ],
      "text/plain": [
       "              JNJ    JPM    XOM      DJIA\n",
       "date                                     \n",
       "2010-01-04  64.68  42.85  69.15  10583.96\n",
       "2010-01-05  63.93  43.68  69.42  10572.02\n",
       "2010-01-06  64.45  43.92  70.02  10573.68\n",
       "2010-01-07  63.99  44.79  69.80  10606.86\n",
       "2010-01-08  64.21  44.68  69.52  10618.19"
      ]
     },
     "execution_count": 54,
     "metadata": {},
     "output_type": "execute_result"
    }
   ],
   "source": [
    "data.head()"
   ]
  },
  {
   "cell_type": "code",
   "execution_count": 55,
   "id": "1d0b4404",
   "metadata": {},
   "outputs": [
    {
     "data": {
      "image/png": "[encoded data removed]",
      "text/plain": [
       "<Figure size 432x288 with 1 Axes>"
      ]
     },
     "metadata": {
      "needs_background": "light"
     },
     "output_type": "display_data"
    }
   ],
   "source": [
    "# Normalize and plot your data here\n",
    "data.div(data.iloc[0]).mul(100).plot()\n",
    "plt.show()"
   ]
  },
  {
   "cell_type": "markdown",
   "id": "7239627f",
   "metadata": {},
   "source": [
    "### Plot performance difference vs benchmark index"
   ]
  },
  {
   "cell_type": "code",
   "execution_count": 56,
   "id": "5beebaeb",
   "metadata": {},
   "outputs": [
    {
     "data": {
      "text/plain": [
       "['MSFT', 'AAPL']"
      ]
     },
     "execution_count": 56,
     "metadata": {},
     "output_type": "execute_result"
    }
   ],
   "source": [
    "# Create tickers\n",
    "tickers = ['MSFT', 'AAPL']\n",
    "tickers"
   ]
  },
  {
   "cell_type": "code",
   "execution_count": 58,
   "id": "cc7f410c",
   "metadata": {},
   "outputs": [
    {
     "data": {
      "text/html": [
       "<div>\n",
       "<style scoped>\n",
       "    .dataframe tbody tr th:only-of-type {\n",
       "        vertical-align: middle;\n",
       "    }\n",
       "\n",
       "    .dataframe tbody tr th {\n",
       "        vertical-align: top;\n",
       "    }\n",
       "\n",
       "    .dataframe thead th {\n",
       "        text-align: right;\n",
       "    }\n",
       "</style>\n",
       "<table border=\"1\" class=\"dataframe\">\n",
       "  <thead>\n",
       "    <tr style=\"text-align: right;\">\n",
       "      <th></th>\n",
       "      <th>AAPL</th>\n",
       "      <th>MSFT</th>\n",
       "    </tr>\n",
       "    <tr>\n",
       "      <th>date</th>\n",
       "      <th></th>\n",
       "      <th></th>\n",
       "    </tr>\n",
       "  </thead>\n",
       "  <tbody>\n",
       "    <tr>\n",
       "      <th>2007-01-03</th>\n",
       "      <td>11.97</td>\n",
       "      <td>29.86</td>\n",
       "    </tr>\n",
       "    <tr>\n",
       "      <th>2007-01-04</th>\n",
       "      <td>12.24</td>\n",
       "      <td>29.81</td>\n",
       "    </tr>\n",
       "    <tr>\n",
       "      <th>2007-01-05</th>\n",
       "      <td>12.15</td>\n",
       "      <td>29.64</td>\n",
       "    </tr>\n",
       "    <tr>\n",
       "      <th>2007-01-08</th>\n",
       "      <td>12.21</td>\n",
       "      <td>29.93</td>\n",
       "    </tr>\n",
       "    <tr>\n",
       "      <th>2007-01-09</th>\n",
       "      <td>13.22</td>\n",
       "      <td>29.96</td>\n",
       "    </tr>\n",
       "  </tbody>\n",
       "</table>\n",
       "</div>"
      ],
      "text/plain": [
       "             AAPL   MSFT\n",
       "date                    \n",
       "2007-01-03  11.97  29.86\n",
       "2007-01-04  12.24  29.81\n",
       "2007-01-05  12.15  29.64\n",
       "2007-01-08  12.21  29.93\n",
       "2007-01-09  13.22  29.96"
      ]
     },
     "execution_count": 58,
     "metadata": {},
     "output_type": "execute_result"
    }
   ],
   "source": [
    "# Import stock data here\n",
    "stocks = pd.read_csv('stock_data/msft_aapl.csv', parse_dates=['date'], index_col=['date'])\n",
    "stocks.head()"
   ]
  },
  {
   "cell_type": "code",
   "execution_count": 60,
   "id": "66183833",
   "metadata": {},
   "outputs": [
    {
     "data": {
      "text/html": [
       "<div>\n",
       "<style scoped>\n",
       "    .dataframe tbody tr th:only-of-type {\n",
       "        vertical-align: middle;\n",
       "    }\n",
       "\n",
       "    .dataframe tbody tr th {\n",
       "        vertical-align: top;\n",
       "    }\n",
       "\n",
       "    .dataframe thead th {\n",
       "        text-align: right;\n",
       "    }\n",
       "</style>\n",
       "<table border=\"1\" class=\"dataframe\">\n",
       "  <thead>\n",
       "    <tr style=\"text-align: right;\">\n",
       "      <th></th>\n",
       "      <th>SP500</th>\n",
       "    </tr>\n",
       "    <tr>\n",
       "      <th>date</th>\n",
       "      <th></th>\n",
       "    </tr>\n",
       "  </thead>\n",
       "  <tbody>\n",
       "    <tr>\n",
       "      <th>2007-06-29</th>\n",
       "      <td>1503.35</td>\n",
       "    </tr>\n",
       "    <tr>\n",
       "      <th>2007-07-02</th>\n",
       "      <td>1519.43</td>\n",
       "    </tr>\n",
       "    <tr>\n",
       "      <th>2007-07-03</th>\n",
       "      <td>1524.87</td>\n",
       "    </tr>\n",
       "    <tr>\n",
       "      <th>2007-07-05</th>\n",
       "      <td>1525.40</td>\n",
       "    </tr>\n",
       "    <tr>\n",
       "      <th>2007-07-06</th>\n",
       "      <td>1530.44</td>\n",
       "    </tr>\n",
       "  </tbody>\n",
       "</table>\n",
       "</div>"
      ],
      "text/plain": [
       "              SP500\n",
       "date               \n",
       "2007-06-29  1503.35\n",
       "2007-07-02  1519.43\n",
       "2007-07-03  1524.87\n",
       "2007-07-05  1525.40\n",
       "2007-07-06  1530.44"
      ]
     },
     "execution_count": 60,
     "metadata": {},
     "output_type": "execute_result"
    }
   ],
   "source": [
    "# Import index here\n",
    "sp500 = pd.read_csv('stock_data/sp500.csv', parse_dates=['date'], index_col=['date'])\n",
    "sp500.head()"
   ]
  },
  {
   "cell_type": "code",
   "execution_count": 69,
   "id": "751efde9",
   "metadata": {},
   "outputs": [
    {
     "data": {
      "text/html": [
       "<div>\n",
       "<style scoped>\n",
       "    .dataframe tbody tr th:only-of-type {\n",
       "        vertical-align: middle;\n",
       "    }\n",
       "\n",
       "    .dataframe tbody tr th {\n",
       "        vertical-align: top;\n",
       "    }\n",
       "\n",
       "    .dataframe thead th {\n",
       "        text-align: right;\n",
       "    }\n",
       "</style>\n",
       "<table border=\"1\" class=\"dataframe\">\n",
       "  <thead>\n",
       "    <tr style=\"text-align: right;\">\n",
       "      <th></th>\n",
       "      <th>AAPL</th>\n",
       "      <th>MSFT</th>\n",
       "      <th>SP500</th>\n",
       "    </tr>\n",
       "    <tr>\n",
       "      <th>date</th>\n",
       "      <th></th>\n",
       "      <th></th>\n",
       "      <th></th>\n",
       "    </tr>\n",
       "  </thead>\n",
       "  <tbody>\n",
       "    <tr>\n",
       "      <th>2007-06-29</th>\n",
       "      <td>17.43</td>\n",
       "      <td>29.47</td>\n",
       "      <td>1503.35</td>\n",
       "    </tr>\n",
       "    <tr>\n",
       "      <th>2007-07-02</th>\n",
       "      <td>17.32</td>\n",
       "      <td>29.74</td>\n",
       "      <td>1519.43</td>\n",
       "    </tr>\n",
       "    <tr>\n",
       "      <th>2007-07-03</th>\n",
       "      <td>18.17</td>\n",
       "      <td>30.02</td>\n",
       "      <td>1524.87</td>\n",
       "    </tr>\n",
       "    <tr>\n",
       "      <th>2007-07-05</th>\n",
       "      <td>18.96</td>\n",
       "      <td>29.99</td>\n",
       "      <td>1525.40</td>\n",
       "    </tr>\n",
       "    <tr>\n",
       "      <th>2007-07-06</th>\n",
       "      <td>18.90</td>\n",
       "      <td>29.97</td>\n",
       "      <td>1530.44</td>\n",
       "    </tr>\n",
       "  </tbody>\n",
       "</table>\n",
       "</div>"
      ],
      "text/plain": [
       "             AAPL   MSFT    SP500\n",
       "date                             \n",
       "2007-06-29  17.43  29.47  1503.35\n",
       "2007-07-02  17.32  29.74  1519.43\n",
       "2007-07-03  18.17  30.02  1524.87\n",
       "2007-07-05  18.96  29.99  1525.40\n",
       "2007-07-06  18.90  29.97  1530.44"
      ]
     },
     "execution_count": 69,
     "metadata": {},
     "output_type": "execute_result"
    }
   ],
   "source": [
    "# Concatenate stocks and index here\n",
    "data = pd.concat([stocks, sp500], axis=1).dropna()\n",
    "data.head()"
   ]
  },
  {
   "cell_type": "code",
   "execution_count": 70,
   "id": "e57b2e36",
   "metadata": {},
   "outputs": [
    {
     "data": {
      "text/html": [
       "<div>\n",
       "<style scoped>\n",
       "    .dataframe tbody tr th:only-of-type {\n",
       "        vertical-align: middle;\n",
       "    }\n",
       "\n",
       "    .dataframe tbody tr th {\n",
       "        vertical-align: top;\n",
       "    }\n",
       "\n",
       "    .dataframe thead th {\n",
       "        text-align: right;\n",
       "    }\n",
       "</style>\n",
       "<table border=\"1\" class=\"dataframe\">\n",
       "  <thead>\n",
       "    <tr style=\"text-align: right;\">\n",
       "      <th></th>\n",
       "      <th>AAPL</th>\n",
       "      <th>MSFT</th>\n",
       "      <th>SP500</th>\n",
       "    </tr>\n",
       "    <tr>\n",
       "      <th>date</th>\n",
       "      <th></th>\n",
       "      <th></th>\n",
       "      <th></th>\n",
       "    </tr>\n",
       "  </thead>\n",
       "  <tbody>\n",
       "    <tr>\n",
       "      <th>2007-06-29</th>\n",
       "      <td>100.000000</td>\n",
       "      <td>100.000000</td>\n",
       "      <td>100.000000</td>\n",
       "    </tr>\n",
       "    <tr>\n",
       "      <th>2007-07-02</th>\n",
       "      <td>99.368904</td>\n",
       "      <td>100.916186</td>\n",
       "      <td>101.069611</td>\n",
       "    </tr>\n",
       "    <tr>\n",
       "      <th>2007-07-03</th>\n",
       "      <td>104.245554</td>\n",
       "      <td>101.866305</td>\n",
       "      <td>101.431470</td>\n",
       "    </tr>\n",
       "    <tr>\n",
       "      <th>2007-07-05</th>\n",
       "      <td>108.777969</td>\n",
       "      <td>101.764506</td>\n",
       "      <td>101.466724</td>\n",
       "    </tr>\n",
       "    <tr>\n",
       "      <th>2007-07-06</th>\n",
       "      <td>108.433735</td>\n",
       "      <td>101.696641</td>\n",
       "      <td>101.801976</td>\n",
       "    </tr>\n",
       "  </tbody>\n",
       "</table>\n",
       "</div>"
      ],
      "text/plain": [
       "                  AAPL        MSFT       SP500\n",
       "date                                          \n",
       "2007-06-29  100.000000  100.000000  100.000000\n",
       "2007-07-02   99.368904  100.916186  101.069611\n",
       "2007-07-03  104.245554  101.866305  101.431470\n",
       "2007-07-05  108.777969  101.764506  101.466724\n",
       "2007-07-06  108.433735  101.696641  101.801976"
      ]
     },
     "execution_count": 70,
     "metadata": {},
     "output_type": "execute_result"
    }
   ],
   "source": [
    "# Normalize data\n",
    "normalized = data.div(data.iloc[0]).mul(100)\n",
    "normalized.head()"
   ]
  },
  {
   "cell_type": "code",
   "execution_count": 71,
   "id": "2c241be5",
   "metadata": {},
   "outputs": [
    {
     "data": {
      "image/png": "[encoded data removed]",
      "text/plain": [
       "<Figure size 432x288 with 1 Axes>"
      ]
     },
     "metadata": {
      "needs_background": "light"
     },
     "output_type": "display_data"
    }
   ],
   "source": [
    "# Subtract the normalized index from the normalized stock prices, and plot the result\n",
    "normalized[tickers].sub(normalized['SP500'],axis=0).plot()\n",
    "plt.show()"
   ]
  },
  {
   "cell_type": "markdown",
   "id": "f553f7fd",
   "metadata": {},
   "source": [
    "### Changing the time series frequency: resampling"
   ]
  },
  {
   "cell_type": "code",
   "execution_count": 79,
   "id": "56bb8de3",
   "metadata": {},
   "outputs": [
    {
     "data": {
      "text/plain": [
       "DatetimeIndex(['2016-03-31', '2016-06-30', '2016-09-30', '2016-12-31'], dtype='datetime64[ns]', freq='Q-DEC')"
      ]
     },
     "execution_count": 79,
     "metadata": {},
     "output_type": "execute_result"
    }
   ],
   "source": [
    "#create quarterly data\n",
    "dates = pd.date_range(start='2016', periods=4, freq='Q')\n",
    "dates"
   ]
  },
  {
   "cell_type": "code",
   "execution_count": 80,
   "id": "fa193960",
   "metadata": {},
   "outputs": [
    {
     "data": {
      "text/plain": [
       "2016-03-31    1\n",
       "2016-06-30    2\n",
       "2016-09-30    3\n",
       "2016-12-31    4\n",
       "Freq: Q-DEC, dtype: int64"
      ]
     },
     "execution_count": 80,
     "metadata": {},
     "output_type": "execute_result"
    }
   ],
   "source": [
    "# transform into a series\n",
    "data = range(1, 5)\n",
    "quarterly = pd.Series(data=data, index=dates)\n",
    "quarterly"
   ]
  },
  {
   "cell_type": "code",
   "execution_count": 81,
   "id": "67b865d8",
   "metadata": {},
   "outputs": [
    {
     "data": {
      "text/plain": [
       "2016-03-31    1.0\n",
       "2016-04-30    NaN\n",
       "2016-05-31    NaN\n",
       "2016-06-30    2.0\n",
       "2016-07-31    NaN\n",
       "2016-08-31    NaN\n",
       "2016-09-30    3.0\n",
       "2016-10-31    NaN\n",
       "2016-11-30    NaN\n",
       "2016-12-31    4.0\n",
       "Freq: M, dtype: float64"
      ]
     },
     "execution_count": 81,
     "metadata": {},
     "output_type": "execute_result"
    }
   ],
   "source": [
    "# upsamply quartely series to monthly\n",
    "monthly = quarterly.asfreq('M') # to month-end frequency\n",
    "monthly"
   ]
  },
  {
   "cell_type": "code",
   "execution_count": 82,
   "id": "f1233c2a",
   "metadata": {},
   "outputs": [
    {
     "data": {
      "text/html": [
       "<div>\n",
       "<style scoped>\n",
       "    .dataframe tbody tr th:only-of-type {\n",
       "        vertical-align: middle;\n",
       "    }\n",
       "\n",
       "    .dataframe tbody tr th {\n",
       "        vertical-align: top;\n",
       "    }\n",
       "\n",
       "    .dataframe thead th {\n",
       "        text-align: right;\n",
       "    }\n",
       "</style>\n",
       "<table border=\"1\" class=\"dataframe\">\n",
       "  <thead>\n",
       "    <tr style=\"text-align: right;\">\n",
       "      <th></th>\n",
       "      <th>baseline</th>\n",
       "    </tr>\n",
       "  </thead>\n",
       "  <tbody>\n",
       "    <tr>\n",
       "      <th>2016-03-31</th>\n",
       "      <td>1.0</td>\n",
       "    </tr>\n",
       "    <tr>\n",
       "      <th>2016-04-30</th>\n",
       "      <td>NaN</td>\n",
       "    </tr>\n",
       "    <tr>\n",
       "      <th>2016-05-31</th>\n",
       "      <td>NaN</td>\n",
       "    </tr>\n",
       "    <tr>\n",
       "      <th>2016-06-30</th>\n",
       "      <td>2.0</td>\n",
       "    </tr>\n",
       "    <tr>\n",
       "      <th>2016-07-31</th>\n",
       "      <td>NaN</td>\n",
       "    </tr>\n",
       "    <tr>\n",
       "      <th>2016-08-31</th>\n",
       "      <td>NaN</td>\n",
       "    </tr>\n",
       "    <tr>\n",
       "      <th>2016-09-30</th>\n",
       "      <td>3.0</td>\n",
       "    </tr>\n",
       "    <tr>\n",
       "      <th>2016-10-31</th>\n",
       "      <td>NaN</td>\n",
       "    </tr>\n",
       "    <tr>\n",
       "      <th>2016-11-30</th>\n",
       "      <td>NaN</td>\n",
       "    </tr>\n",
       "    <tr>\n",
       "      <th>2016-12-31</th>\n",
       "      <td>4.0</td>\n",
       "    </tr>\n",
       "  </tbody>\n",
       "</table>\n",
       "</div>"
      ],
      "text/plain": [
       "            baseline\n",
       "2016-03-31       1.0\n",
       "2016-04-30       NaN\n",
       "2016-05-31       NaN\n",
       "2016-06-30       2.0\n",
       "2016-07-31       NaN\n",
       "2016-08-31       NaN\n",
       "2016-09-30       3.0\n",
       "2016-10-31       NaN\n",
       "2016-11-30       NaN\n",
       "2016-12-31       4.0"
      ]
     },
     "execution_count": 82,
     "metadata": {},
     "output_type": "execute_result"
    }
   ],
   "source": [
    "# convert series into a dataframe\n",
    "monthly = monthly.to_frame('baseline') # to DataFrame\n",
    "monthly"
   ]
  },
  {
   "cell_type": "code",
   "execution_count": 84,
   "id": "a9ad336f",
   "metadata": {},
   "outputs": [
    {
     "data": {
      "text/html": [
       "<div>\n",
       "<style scoped>\n",
       "    .dataframe tbody tr th:only-of-type {\n",
       "        vertical-align: middle;\n",
       "    }\n",
       "\n",
       "    .dataframe tbody tr th {\n",
       "        vertical-align: top;\n",
       "    }\n",
       "\n",
       "    .dataframe thead th {\n",
       "        text-align: right;\n",
       "    }\n",
       "</style>\n",
       "<table border=\"1\" class=\"dataframe\">\n",
       "  <thead>\n",
       "    <tr style=\"text-align: right;\">\n",
       "      <th></th>\n",
       "      <th>baseline</th>\n",
       "      <th>ffill</th>\n",
       "      <th>bfill</th>\n",
       "      <th>value</th>\n",
       "    </tr>\n",
       "  </thead>\n",
       "  <tbody>\n",
       "    <tr>\n",
       "      <th>2016-03-31</th>\n",
       "      <td>1.0</td>\n",
       "      <td>1</td>\n",
       "      <td>1</td>\n",
       "      <td>1</td>\n",
       "    </tr>\n",
       "    <tr>\n",
       "      <th>2016-04-30</th>\n",
       "      <td>NaN</td>\n",
       "      <td>1</td>\n",
       "      <td>2</td>\n",
       "      <td>0</td>\n",
       "    </tr>\n",
       "    <tr>\n",
       "      <th>2016-05-31</th>\n",
       "      <td>NaN</td>\n",
       "      <td>1</td>\n",
       "      <td>2</td>\n",
       "      <td>0</td>\n",
       "    </tr>\n",
       "    <tr>\n",
       "      <th>2016-06-30</th>\n",
       "      <td>2.0</td>\n",
       "      <td>2</td>\n",
       "      <td>2</td>\n",
       "      <td>2</td>\n",
       "    </tr>\n",
       "    <tr>\n",
       "      <th>2016-07-31</th>\n",
       "      <td>NaN</td>\n",
       "      <td>2</td>\n",
       "      <td>3</td>\n",
       "      <td>0</td>\n",
       "    </tr>\n",
       "    <tr>\n",
       "      <th>2016-08-31</th>\n",
       "      <td>NaN</td>\n",
       "      <td>2</td>\n",
       "      <td>3</td>\n",
       "      <td>0</td>\n",
       "    </tr>\n",
       "    <tr>\n",
       "      <th>2016-09-30</th>\n",
       "      <td>3.0</td>\n",
       "      <td>3</td>\n",
       "      <td>3</td>\n",
       "      <td>3</td>\n",
       "    </tr>\n",
       "    <tr>\n",
       "      <th>2016-10-31</th>\n",
       "      <td>NaN</td>\n",
       "      <td>3</td>\n",
       "      <td>4</td>\n",
       "      <td>0</td>\n",
       "    </tr>\n",
       "    <tr>\n",
       "      <th>2016-11-30</th>\n",
       "      <td>NaN</td>\n",
       "      <td>3</td>\n",
       "      <td>4</td>\n",
       "      <td>0</td>\n",
       "    </tr>\n",
       "    <tr>\n",
       "      <th>2016-12-31</th>\n",
       "      <td>4.0</td>\n",
       "      <td>4</td>\n",
       "      <td>4</td>\n",
       "      <td>4</td>\n",
       "    </tr>\n",
       "  </tbody>\n",
       "</table>\n",
       "</div>"
      ],
      "text/plain": [
       "            baseline  ffill  bfill  value\n",
       "2016-03-31       1.0      1      1      1\n",
       "2016-04-30       NaN      1      2      0\n",
       "2016-05-31       NaN      1      2      0\n",
       "2016-06-30       2.0      2      2      2\n",
       "2016-07-31       NaN      2      3      0\n",
       "2016-08-31       NaN      2      3      0\n",
       "2016-09-30       3.0      3      3      3\n",
       "2016-10-31       NaN      3      4      0\n",
       "2016-11-30       NaN      3      4      0\n",
       "2016-12-31       4.0      4      4      4"
      ]
     },
     "execution_count": 84,
     "metadata": {},
     "output_type": "execute_result"
    }
   ],
   "source": [
    "# upsampling fill methods\n",
    "monthly['ffill'] = quarterly.asfreq('M', method='ffill') # forward fill, missing data onward willbe filled by value before a missing one\n",
    "monthly['bfill'] = quarterly.asfreq('M', method='bfill') # backwoard fill, missing data before will be filled by value after a missing one\n",
    "monthly['value'] = quarterly.asfreq('M', fill_value=0) # fill mising value with 0\n",
    "monthly"
   ]
  },
  {
   "cell_type": "markdown",
   "id": "ed9f7aee",
   "metadata": {},
   "source": [
    "### Convert monthly to weekly data"
   ]
  },
  {
   "cell_type": "code",
   "execution_count": null,
   "id": "f396ade5",
   "metadata": {},
   "outputs": [],
   "source": []
  }
 ],
 "metadata": {
  "kernelspec": {
   "display_name": "Python 3 (ipykernel)",
   "language": "python",
   "name": "python3"
  },
  "language_info": {
   "codemirror_mode": {
    "name": "ipython",
    "version": 3
   },
   "file_extension": ".py",
   "mimetype": "text/x-python",
   "name": "python",
   "nbconvert_exporter": "python",
   "pygments_lexer": "ipython3",
   "version": "3.9.12"
  }
 },
 "nbformat": 4,
 "nbformat_minor": 5
}
